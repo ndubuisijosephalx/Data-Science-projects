{
 "cells": [
  {
   "cell_type": "markdown",
   "id": "b3b08f3b-5bd8-4c5f-ad9c-5ff15d0abc2d",
   "metadata": {},
   "source": [
    "# About Dataset\n",
    "## Context"
   ]
  },
  {
   "cell_type": "markdown",
   "id": "3a640a2a-aba7-4253-8088-c8801924d3f0",
   "metadata": {},
   "source": [
    "This data set contains information on user preference data from 73,516 users on 12,294 anime. Each user is able to add anime to their completed list and give it a rating and this data set is a compilation of those ratings.\n",
    "Content<br>\n",
    "#### Anime.csv<br>\n",
    "•   anime_id - myanimelist.net's unique id identifying an anime.<br>\n",
    "•\tname - full name of anime.<br>\n",
    "•\tgenre - comma separated list of genres for this anime.<br>\n",
    "•\ttype - movie, TV, OVA, etc.<br>\n",
    "•\tepisodes - how many episodes in this show. (1 if movie).<br>\n",
    "•\trating - average rating out of 10 for this anime.<br>\n",
    "•\tmembers - number of community members that are in this anime's \"group\". <br>\n",
    "\n",
    "<h4> Rating.csv </h4><br>\n",
    "•\tuser_id - non identifiable randomly generated user id.<br>\n",
    "•\tanime_id - the anime that this user has rated.<br>\n",
    "•\trating - rating out of 10 this user has assigned (-1 if the user watched it but didn't assign a rating).<br>\n",
    "<h4> Acknowledgements </h4><br>\n",
    "Thanks to myanimelist.net API for providing anime data and user ratings.\n",
    "Inspiration<br>\n",
    "New age better anime recommendation system based only on user viewing history\n",
    "r viewing history\r\n",
    "r viewing history\r\n",
    "expand_moreView more\r\n"
   ]
  },
  {
   "cell_type": "markdown",
   "id": "a2cd6c4f-7273-4412-aadc-b978249d1e82",
   "metadata": {},
   "source": [
    "# Import the Neccessary Libraries"
   ]
  },
  {
   "cell_type": "code",
   "execution_count": 5,
   "id": "fc7c630a-2c74-4ba5-9de7-a3644adbfc3c",
   "metadata": {},
   "outputs": [],
   "source": [
    "import pandas as pd\n",
    "from sklearn.metrics import silhouette_score, calinski_harabasz_score, silhouette_samples, davies_bouldin_score\n",
    "import matplotlib.cm as cm\n",
    "import numpy as np\n",
    "import random\n",
    "from sklearn.preprocessing import StandardScaler, LabelEncoder\n",
    "from sklearn.model_selection import train_test_split\n",
    "import seaborn as sns\n",
    "from sklearn.cluster import KMeans\n",
    "import matplotlib.pyplot as plt\n",
    "from mlxtend.frequent_patterns import apriori, association_rules\n",
    "pd.pandas.set_option('display.max_columns', None)\n",
    "pd.pandas.set_option('display.width', 300)\n",
    "import warnings\n",
    "warnings.filterwarnings(\"ignore\")"
   ]
  },
  {
   "cell_type": "markdown",
   "id": "41aa694b-ef3b-4429-b27a-56cb3e1ef6b9",
   "metadata": {},
   "source": [
    "# Data Preprocessing"
   ]
  },
  {
   "cell_type": "markdown",
   "id": "33f0d02b-c9be-439f-b6d3-225be8e66f1c",
   "metadata": {},
   "source": [
    "## Load the Datasets"
   ]
  },
  {
   "cell_type": "code",
   "execution_count": 2,
   "id": "3919ec56-3a90-43b7-b75c-5a26533fc09f",
   "metadata": {},
   "outputs": [],
   "source": [
    "anime_ = pd.read_csv(r\"C:\\Users\\Joben\\Desktop\\MSc Real World Applications\\archive\\anime.csv\")\n",
    "rating_ = pd.read_csv(r\"C:\\Users\\Joben\\Desktop\\MSc Real World Applications\\archive\\rating.csv\")\n",
    "anime = anime_.copy()\n",
    "rating = rating_.copy()"
   ]
  },
  {
   "cell_type": "code",
   "execution_count": 6,
   "id": "3d43af13-0fb7-4e97-a87e-e97f0ce64d0b",
   "metadata": {},
   "outputs": [
    {
     "data": {
      "text/html": [
       "<div>\n",
       "<style scoped>\n",
       "    .dataframe tbody tr th:only-of-type {\n",
       "        vertical-align: middle;\n",
       "    }\n",
       "\n",
       "    .dataframe tbody tr th {\n",
       "        vertical-align: top;\n",
       "    }\n",
       "\n",
       "    .dataframe thead th {\n",
       "        text-align: right;\n",
       "    }\n",
       "</style>\n",
       "<table border=\"1\" class=\"dataframe\">\n",
       "  <thead>\n",
       "    <tr style=\"text-align: right;\">\n",
       "      <th></th>\n",
       "      <th>anime_id</th>\n",
       "      <th>name</th>\n",
       "      <th>genre</th>\n",
       "      <th>type</th>\n",
       "      <th>episodes</th>\n",
       "      <th>rating</th>\n",
       "      <th>members</th>\n",
       "    </tr>\n",
       "  </thead>\n",
       "  <tbody>\n",
       "    <tr>\n",
       "      <th>0</th>\n",
       "      <td>32281</td>\n",
       "      <td>Kimi no Na wa.</td>\n",
       "      <td>Drama, Romance, School, Supernatural</td>\n",
       "      <td>Movie</td>\n",
       "      <td>1</td>\n",
       "      <td>9.37</td>\n",
       "      <td>200630</td>\n",
       "    </tr>\n",
       "    <tr>\n",
       "      <th>1</th>\n",
       "      <td>5114</td>\n",
       "      <td>Fullmetal Alchemist: Brotherhood</td>\n",
       "      <td>Action, Adventure, Drama, Fantasy, Magic, Mili...</td>\n",
       "      <td>TV</td>\n",
       "      <td>64</td>\n",
       "      <td>9.26</td>\n",
       "      <td>793665</td>\n",
       "    </tr>\n",
       "    <tr>\n",
       "      <th>2</th>\n",
       "      <td>28977</td>\n",
       "      <td>Gintama°</td>\n",
       "      <td>Action, Comedy, Historical, Parody, Samurai, S...</td>\n",
       "      <td>TV</td>\n",
       "      <td>51</td>\n",
       "      <td>9.25</td>\n",
       "      <td>114262</td>\n",
       "    </tr>\n",
       "    <tr>\n",
       "      <th>3</th>\n",
       "      <td>9253</td>\n",
       "      <td>Steins;Gate</td>\n",
       "      <td>Sci-Fi, Thriller</td>\n",
       "      <td>TV</td>\n",
       "      <td>24</td>\n",
       "      <td>9.17</td>\n",
       "      <td>673572</td>\n",
       "    </tr>\n",
       "    <tr>\n",
       "      <th>4</th>\n",
       "      <td>9969</td>\n",
       "      <td>Gintama&amp;#039;</td>\n",
       "      <td>Action, Comedy, Historical, Parody, Samurai, S...</td>\n",
       "      <td>TV</td>\n",
       "      <td>51</td>\n",
       "      <td>9.16</td>\n",
       "      <td>151266</td>\n",
       "    </tr>\n",
       "    <tr>\n",
       "      <th>...</th>\n",
       "      <td>...</td>\n",
       "      <td>...</td>\n",
       "      <td>...</td>\n",
       "      <td>...</td>\n",
       "      <td>...</td>\n",
       "      <td>...</td>\n",
       "      <td>...</td>\n",
       "    </tr>\n",
       "    <tr>\n",
       "      <th>12289</th>\n",
       "      <td>9316</td>\n",
       "      <td>Toushindai My Lover: Minami tai Mecha-Minami</td>\n",
       "      <td>Hentai</td>\n",
       "      <td>OVA</td>\n",
       "      <td>1</td>\n",
       "      <td>4.15</td>\n",
       "      <td>211</td>\n",
       "    </tr>\n",
       "    <tr>\n",
       "      <th>12290</th>\n",
       "      <td>5543</td>\n",
       "      <td>Under World</td>\n",
       "      <td>Hentai</td>\n",
       "      <td>OVA</td>\n",
       "      <td>1</td>\n",
       "      <td>4.28</td>\n",
       "      <td>183</td>\n",
       "    </tr>\n",
       "    <tr>\n",
       "      <th>12291</th>\n",
       "      <td>5621</td>\n",
       "      <td>Violence Gekiga David no Hoshi</td>\n",
       "      <td>Hentai</td>\n",
       "      <td>OVA</td>\n",
       "      <td>4</td>\n",
       "      <td>4.88</td>\n",
       "      <td>219</td>\n",
       "    </tr>\n",
       "    <tr>\n",
       "      <th>12292</th>\n",
       "      <td>6133</td>\n",
       "      <td>Violence Gekiga Shin David no Hoshi: Inma Dens...</td>\n",
       "      <td>Hentai</td>\n",
       "      <td>OVA</td>\n",
       "      <td>1</td>\n",
       "      <td>4.98</td>\n",
       "      <td>175</td>\n",
       "    </tr>\n",
       "    <tr>\n",
       "      <th>12293</th>\n",
       "      <td>26081</td>\n",
       "      <td>Yasuji no Pornorama: Yacchimae!!</td>\n",
       "      <td>Hentai</td>\n",
       "      <td>Movie</td>\n",
       "      <td>1</td>\n",
       "      <td>5.46</td>\n",
       "      <td>142</td>\n",
       "    </tr>\n",
       "  </tbody>\n",
       "</table>\n",
       "<p>12294 rows × 7 columns</p>\n",
       "</div>"
      ],
      "text/plain": [
       "       anime_id                                               name                                              genre   type episodes  rating  members\n",
       "0         32281                                     Kimi no Na wa.               Drama, Romance, School, Supernatural  Movie        1    9.37   200630\n",
       "1          5114                   Fullmetal Alchemist: Brotherhood  Action, Adventure, Drama, Fantasy, Magic, Mili...     TV       64    9.26   793665\n",
       "2         28977                                           Gintama°  Action, Comedy, Historical, Parody, Samurai, S...     TV       51    9.25   114262\n",
       "3          9253                                        Steins;Gate                                   Sci-Fi, Thriller     TV       24    9.17   673572\n",
       "4          9969                                      Gintama&#039;  Action, Comedy, Historical, Parody, Samurai, S...     TV       51    9.16   151266\n",
       "...         ...                                                ...                                                ...    ...      ...     ...      ...\n",
       "12289      9316       Toushindai My Lover: Minami tai Mecha-Minami                                             Hentai    OVA        1    4.15      211\n",
       "12290      5543                                        Under World                                             Hentai    OVA        1    4.28      183\n",
       "12291      5621                     Violence Gekiga David no Hoshi                                             Hentai    OVA        4    4.88      219\n",
       "12292      6133  Violence Gekiga Shin David no Hoshi: Inma Dens...                                             Hentai    OVA        1    4.98      175\n",
       "12293     26081                   Yasuji no Pornorama: Yacchimae!!                                             Hentai  Movie        1    5.46      142\n",
       "\n",
       "[12294 rows x 7 columns]"
      ]
     },
     "execution_count": 6,
     "metadata": {},
     "output_type": "execute_result"
    }
   ],
   "source": [
    "anime"
   ]
  },
  {
   "cell_type": "code",
   "execution_count": 7,
   "id": "26b2c5ec-a8f6-4626-8a53-7cac6d5e80bc",
   "metadata": {},
   "outputs": [
    {
     "data": {
      "text/html": [
       "<div>\n",
       "<style scoped>\n",
       "    .dataframe tbody tr th:only-of-type {\n",
       "        vertical-align: middle;\n",
       "    }\n",
       "\n",
       "    .dataframe tbody tr th {\n",
       "        vertical-align: top;\n",
       "    }\n",
       "\n",
       "    .dataframe thead th {\n",
       "        text-align: right;\n",
       "    }\n",
       "</style>\n",
       "<table border=\"1\" class=\"dataframe\">\n",
       "  <thead>\n",
       "    <tr style=\"text-align: right;\">\n",
       "      <th></th>\n",
       "      <th>user_id</th>\n",
       "      <th>anime_id</th>\n",
       "      <th>rating</th>\n",
       "    </tr>\n",
       "  </thead>\n",
       "  <tbody>\n",
       "    <tr>\n",
       "      <th>0</th>\n",
       "      <td>1</td>\n",
       "      <td>20</td>\n",
       "      <td>-1</td>\n",
       "    </tr>\n",
       "    <tr>\n",
       "      <th>1</th>\n",
       "      <td>1</td>\n",
       "      <td>24</td>\n",
       "      <td>-1</td>\n",
       "    </tr>\n",
       "    <tr>\n",
       "      <th>2</th>\n",
       "      <td>1</td>\n",
       "      <td>79</td>\n",
       "      <td>-1</td>\n",
       "    </tr>\n",
       "    <tr>\n",
       "      <th>3</th>\n",
       "      <td>1</td>\n",
       "      <td>226</td>\n",
       "      <td>-1</td>\n",
       "    </tr>\n",
       "    <tr>\n",
       "      <th>4</th>\n",
       "      <td>1</td>\n",
       "      <td>241</td>\n",
       "      <td>-1</td>\n",
       "    </tr>\n",
       "    <tr>\n",
       "      <th>...</th>\n",
       "      <td>...</td>\n",
       "      <td>...</td>\n",
       "      <td>...</td>\n",
       "    </tr>\n",
       "    <tr>\n",
       "      <th>7813732</th>\n",
       "      <td>73515</td>\n",
       "      <td>16512</td>\n",
       "      <td>7</td>\n",
       "    </tr>\n",
       "    <tr>\n",
       "      <th>7813733</th>\n",
       "      <td>73515</td>\n",
       "      <td>17187</td>\n",
       "      <td>9</td>\n",
       "    </tr>\n",
       "    <tr>\n",
       "      <th>7813734</th>\n",
       "      <td>73515</td>\n",
       "      <td>22145</td>\n",
       "      <td>10</td>\n",
       "    </tr>\n",
       "    <tr>\n",
       "      <th>7813735</th>\n",
       "      <td>73516</td>\n",
       "      <td>790</td>\n",
       "      <td>9</td>\n",
       "    </tr>\n",
       "    <tr>\n",
       "      <th>7813736</th>\n",
       "      <td>73516</td>\n",
       "      <td>8074</td>\n",
       "      <td>9</td>\n",
       "    </tr>\n",
       "  </tbody>\n",
       "</table>\n",
       "<p>7813737 rows × 3 columns</p>\n",
       "</div>"
      ],
      "text/plain": [
       "         user_id  anime_id  rating\n",
       "0              1        20      -1\n",
       "1              1        24      -1\n",
       "2              1        79      -1\n",
       "3              1       226      -1\n",
       "4              1       241      -1\n",
       "...          ...       ...     ...\n",
       "7813732    73515     16512       7\n",
       "7813733    73515     17187       9\n",
       "7813734    73515     22145      10\n",
       "7813735    73516       790       9\n",
       "7813736    73516      8074       9\n",
       "\n",
       "[7813737 rows x 3 columns]"
      ]
     },
     "execution_count": 7,
     "metadata": {},
     "output_type": "execute_result"
    }
   ],
   "source": [
    "rating"
   ]
  },
  {
   "cell_type": "markdown",
   "id": "e4a186ad-d5ee-41c9-9826-14581e262ec0",
   "metadata": {},
   "source": [
    "## Merge the Datasets"
   ]
  },
  {
   "cell_type": "code",
   "execution_count": 8,
   "id": "9c7e06ce-e881-43bb-98ca-4789c9c21e26",
   "metadata": {},
   "outputs": [],
   "source": [
    "merged_df =pd.merge(anime, rating, on ='anime_id',how='inner')"
   ]
  },
  {
   "cell_type": "code",
   "execution_count": 9,
   "id": "7aa90a5d-9bb2-40a6-a1cc-4276d6466616",
   "metadata": {},
   "outputs": [
    {
     "data": {
      "text/html": [
       "<div>\n",
       "<style scoped>\n",
       "    .dataframe tbody tr th:only-of-type {\n",
       "        vertical-align: middle;\n",
       "    }\n",
       "\n",
       "    .dataframe tbody tr th {\n",
       "        vertical-align: top;\n",
       "    }\n",
       "\n",
       "    .dataframe thead th {\n",
       "        text-align: right;\n",
       "    }\n",
       "</style>\n",
       "<table border=\"1\" class=\"dataframe\">\n",
       "  <thead>\n",
       "    <tr style=\"text-align: right;\">\n",
       "      <th></th>\n",
       "      <th>anime_id</th>\n",
       "      <th>name</th>\n",
       "      <th>genre</th>\n",
       "      <th>type</th>\n",
       "      <th>episodes</th>\n",
       "      <th>rating_x</th>\n",
       "      <th>members</th>\n",
       "      <th>user_id</th>\n",
       "      <th>rating_y</th>\n",
       "    </tr>\n",
       "  </thead>\n",
       "  <tbody>\n",
       "    <tr>\n",
       "      <th>0</th>\n",
       "      <td>32281</td>\n",
       "      <td>Kimi no Na wa.</td>\n",
       "      <td>Drama, Romance, School, Supernatural</td>\n",
       "      <td>Movie</td>\n",
       "      <td>1</td>\n",
       "      <td>9.37</td>\n",
       "      <td>200630</td>\n",
       "      <td>99</td>\n",
       "      <td>5</td>\n",
       "    </tr>\n",
       "    <tr>\n",
       "      <th>1</th>\n",
       "      <td>32281</td>\n",
       "      <td>Kimi no Na wa.</td>\n",
       "      <td>Drama, Romance, School, Supernatural</td>\n",
       "      <td>Movie</td>\n",
       "      <td>1</td>\n",
       "      <td>9.37</td>\n",
       "      <td>200630</td>\n",
       "      <td>152</td>\n",
       "      <td>10</td>\n",
       "    </tr>\n",
       "    <tr>\n",
       "      <th>2</th>\n",
       "      <td>32281</td>\n",
       "      <td>Kimi no Na wa.</td>\n",
       "      <td>Drama, Romance, School, Supernatural</td>\n",
       "      <td>Movie</td>\n",
       "      <td>1</td>\n",
       "      <td>9.37</td>\n",
       "      <td>200630</td>\n",
       "      <td>244</td>\n",
       "      <td>10</td>\n",
       "    </tr>\n",
       "    <tr>\n",
       "      <th>3</th>\n",
       "      <td>32281</td>\n",
       "      <td>Kimi no Na wa.</td>\n",
       "      <td>Drama, Romance, School, Supernatural</td>\n",
       "      <td>Movie</td>\n",
       "      <td>1</td>\n",
       "      <td>9.37</td>\n",
       "      <td>200630</td>\n",
       "      <td>271</td>\n",
       "      <td>10</td>\n",
       "    </tr>\n",
       "    <tr>\n",
       "      <th>4</th>\n",
       "      <td>32281</td>\n",
       "      <td>Kimi no Na wa.</td>\n",
       "      <td>Drama, Romance, School, Supernatural</td>\n",
       "      <td>Movie</td>\n",
       "      <td>1</td>\n",
       "      <td>9.37</td>\n",
       "      <td>200630</td>\n",
       "      <td>278</td>\n",
       "      <td>-1</td>\n",
       "    </tr>\n",
       "    <tr>\n",
       "      <th>...</th>\n",
       "      <td>...</td>\n",
       "      <td>...</td>\n",
       "      <td>...</td>\n",
       "      <td>...</td>\n",
       "      <td>...</td>\n",
       "      <td>...</td>\n",
       "      <td>...</td>\n",
       "      <td>...</td>\n",
       "      <td>...</td>\n",
       "    </tr>\n",
       "    <tr>\n",
       "      <th>7813722</th>\n",
       "      <td>6133</td>\n",
       "      <td>Violence Gekiga Shin David no Hoshi: Inma Dens...</td>\n",
       "      <td>Hentai</td>\n",
       "      <td>OVA</td>\n",
       "      <td>1</td>\n",
       "      <td>4.98</td>\n",
       "      <td>175</td>\n",
       "      <td>39532</td>\n",
       "      <td>-1</td>\n",
       "    </tr>\n",
       "    <tr>\n",
       "      <th>7813723</th>\n",
       "      <td>6133</td>\n",
       "      <td>Violence Gekiga Shin David no Hoshi: Inma Dens...</td>\n",
       "      <td>Hentai</td>\n",
       "      <td>OVA</td>\n",
       "      <td>1</td>\n",
       "      <td>4.98</td>\n",
       "      <td>175</td>\n",
       "      <td>48766</td>\n",
       "      <td>-1</td>\n",
       "    </tr>\n",
       "    <tr>\n",
       "      <th>7813724</th>\n",
       "      <td>6133</td>\n",
       "      <td>Violence Gekiga Shin David no Hoshi: Inma Dens...</td>\n",
       "      <td>Hentai</td>\n",
       "      <td>OVA</td>\n",
       "      <td>1</td>\n",
       "      <td>4.98</td>\n",
       "      <td>175</td>\n",
       "      <td>60365</td>\n",
       "      <td>4</td>\n",
       "    </tr>\n",
       "    <tr>\n",
       "      <th>7813725</th>\n",
       "      <td>26081</td>\n",
       "      <td>Yasuji no Pornorama: Yacchimae!!</td>\n",
       "      <td>Hentai</td>\n",
       "      <td>Movie</td>\n",
       "      <td>1</td>\n",
       "      <td>5.46</td>\n",
       "      <td>142</td>\n",
       "      <td>27364</td>\n",
       "      <td>-1</td>\n",
       "    </tr>\n",
       "    <tr>\n",
       "      <th>7813726</th>\n",
       "      <td>26081</td>\n",
       "      <td>Yasuji no Pornorama: Yacchimae!!</td>\n",
       "      <td>Hentai</td>\n",
       "      <td>Movie</td>\n",
       "      <td>1</td>\n",
       "      <td>5.46</td>\n",
       "      <td>142</td>\n",
       "      <td>48766</td>\n",
       "      <td>-1</td>\n",
       "    </tr>\n",
       "  </tbody>\n",
       "</table>\n",
       "<p>7813727 rows × 9 columns</p>\n",
       "</div>"
      ],
      "text/plain": [
       "         anime_id                                               name                                 genre   type episodes  rating_x  members  user_id  rating_y\n",
       "0           32281                                     Kimi no Na wa.  Drama, Romance, School, Supernatural  Movie        1      9.37   200630       99         5\n",
       "1           32281                                     Kimi no Na wa.  Drama, Romance, School, Supernatural  Movie        1      9.37   200630      152        10\n",
       "2           32281                                     Kimi no Na wa.  Drama, Romance, School, Supernatural  Movie        1      9.37   200630      244        10\n",
       "3           32281                                     Kimi no Na wa.  Drama, Romance, School, Supernatural  Movie        1      9.37   200630      271        10\n",
       "4           32281                                     Kimi no Na wa.  Drama, Romance, School, Supernatural  Movie        1      9.37   200630      278        -1\n",
       "...           ...                                                ...                                   ...    ...      ...       ...      ...      ...       ...\n",
       "7813722      6133  Violence Gekiga Shin David no Hoshi: Inma Dens...                                Hentai    OVA        1      4.98      175    39532        -1\n",
       "7813723      6133  Violence Gekiga Shin David no Hoshi: Inma Dens...                                Hentai    OVA        1      4.98      175    48766        -1\n",
       "7813724      6133  Violence Gekiga Shin David no Hoshi: Inma Dens...                                Hentai    OVA        1      4.98      175    60365         4\n",
       "7813725     26081                   Yasuji no Pornorama: Yacchimae!!                                Hentai  Movie        1      5.46      142    27364        -1\n",
       "7813726     26081                   Yasuji no Pornorama: Yacchimae!!                                Hentai  Movie        1      5.46      142    48766        -1\n",
       "\n",
       "[7813727 rows x 9 columns]"
      ]
     },
     "execution_count": 9,
     "metadata": {},
     "output_type": "execute_result"
    }
   ],
   "source": [
    "merged_df"
   ]
  },
  {
   "cell_type": "markdown",
   "id": "22e025da-e33d-4cee-8009-3e44c7a26da3",
   "metadata": {},
   "source": [
    "## Handling Missing Values"
   ]
  },
  {
   "cell_type": "code",
   "execution_count": 10,
   "id": "2122d035-e557-4a41-b56e-ea9807ddc86b",
   "metadata": {},
   "outputs": [
    {
     "data": {
      "text/plain": [
       "anime_id      0\n",
       "name          0\n",
       "genre       110\n",
       "type          4\n",
       "episodes      0\n",
       "rating_x      6\n",
       "members       0\n",
       "user_id       0\n",
       "rating_y      0\n",
       "dtype: int64"
      ]
     },
     "execution_count": 10,
     "metadata": {},
     "output_type": "execute_result"
    }
   ],
   "source": [
    "merged_df.isna().sum()"
   ]
  },
  {
   "cell_type": "code",
   "execution_count": 11,
   "id": "a2a4c2cb-52e4-486a-8267-8862fd0d15ce",
   "metadata": {},
   "outputs": [],
   "source": [
    "merged_df.dropna(inplace = True)"
   ]
  },
  {
   "cell_type": "code",
   "execution_count": 12,
   "id": "c83879fa-7540-41fe-85e6-602301edec7c",
   "metadata": {},
   "outputs": [
    {
     "data": {
      "text/plain": [
       "anime_id    0\n",
       "name        0\n",
       "genre       0\n",
       "type        0\n",
       "episodes    0\n",
       "rating_x    0\n",
       "members     0\n",
       "user_id     0\n",
       "rating_y    0\n",
       "dtype: int64"
      ]
     },
     "execution_count": 12,
     "metadata": {},
     "output_type": "execute_result"
    }
   ],
   "source": [
    "merged_df.isna().sum()"
   ]
  },
  {
   "cell_type": "markdown",
   "id": "179bc9f4-0a20-45b2-9716-71fa287cd98c",
   "metadata": {},
   "source": [
    "## Data Cleaning"
   ]
  },
  {
   "cell_type": "code",
   "execution_count": 13,
   "id": "16e3fc8b-0073-4109-96cc-ee43f2edeb4c",
   "metadata": {},
   "outputs": [
    {
     "data": {
      "text/plain": [
       "1"
      ]
     },
     "execution_count": 13,
     "metadata": {},
     "output_type": "execute_result"
    }
   ],
   "source": [
    "# Get duplicates in the dataset\n",
    "merged_df.duplicated().sum() "
   ]
  },
  {
   "cell_type": "code",
   "execution_count": 14,
   "id": "de8397af-5883-451d-a438-e63696e5ab15",
   "metadata": {},
   "outputs": [],
   "source": [
    "merged_df.drop_duplicates(inplace=True) # remove duplicates\n",
    "merged_df.drop(columns='rating_y',inplace=True) # remove unneccessary columns"
   ]
  },
  {
   "cell_type": "markdown",
   "id": "6fc4a521-f0d8-4cf4-abbe-fbb2981465bf",
   "metadata": {},
   "source": [
    "## Understand the Data Type"
   ]
  },
  {
   "cell_type": "code",
   "execution_count": 15,
   "id": "50511394-6672-4784-a980-9d981a576021",
   "metadata": {},
   "outputs": [
    {
     "name": "stdout",
     "output_type": "stream",
     "text": [
      "<class 'pandas.core.frame.DataFrame'>\n",
      "Index: 7813610 entries, 0 to 7813726\n",
      "Data columns (total 8 columns):\n",
      " #   Column    Dtype  \n",
      "---  ------    -----  \n",
      " 0   anime_id  int64  \n",
      " 1   name      object \n",
      " 2   genre     object \n",
      " 3   type      object \n",
      " 4   episodes  object \n",
      " 5   rating_x  float64\n",
      " 6   members   int64  \n",
      " 7   user_id   int64  \n",
      "dtypes: float64(1), int64(3), object(4)\n",
      "memory usage: 536.5+ MB\n"
     ]
    }
   ],
   "source": [
    "merged_df.info()"
   ]
  },
  {
   "cell_type": "markdown",
   "id": "7a52b667-b2a3-497e-8899-b8a7a1a345a1",
   "metadata": {},
   "source": [
    "## Identify the rows that cannot be converted to integer in the episodes columns"
   ]
  },
  {
   "cell_type": "code",
   "execution_count": 16,
   "id": "de22e955-5b46-4681-9322-cabb49967c47",
   "metadata": {},
   "outputs": [
    {
     "data": {
      "text/html": [
       "<div>\n",
       "<style scoped>\n",
       "    .dataframe tbody tr th:only-of-type {\n",
       "        vertical-align: middle;\n",
       "    }\n",
       "\n",
       "    .dataframe tbody tr th {\n",
       "        vertical-align: top;\n",
       "    }\n",
       "\n",
       "    .dataframe thead th {\n",
       "        text-align: right;\n",
       "    }\n",
       "</style>\n",
       "<table border=\"1\" class=\"dataframe\">\n",
       "  <thead>\n",
       "    <tr style=\"text-align: right;\">\n",
       "      <th></th>\n",
       "      <th>anime_id</th>\n",
       "      <th>name</th>\n",
       "      <th>genre</th>\n",
       "      <th>type</th>\n",
       "      <th>episodes</th>\n",
       "      <th>rating_x</th>\n",
       "      <th>members</th>\n",
       "      <th>user_id</th>\n",
       "    </tr>\n",
       "  </thead>\n",
       "  <tbody>\n",
       "    <tr>\n",
       "      <th>7686348</th>\n",
       "      <td>32237</td>\n",
       "      <td>Burutabu-chan</td>\n",
       "      <td>Comedy, Fantasy, Magic</td>\n",
       "      <td>TV</td>\n",
       "      <td>Unknown</td>\n",
       "      <td>5.00</td>\n",
       "      <td>37</td>\n",
       "      <td>12431</td>\n",
       "    </tr>\n",
       "    <tr>\n",
       "      <th>7686525</th>\n",
       "      <td>27551</td>\n",
       "      <td>Deko Boko Friends</td>\n",
       "      <td>Comedy, Kids</td>\n",
       "      <td>TV</td>\n",
       "      <td>Unknown</td>\n",
       "      <td>7.14</td>\n",
       "      <td>61</td>\n",
       "      <td>48766</td>\n",
       "    </tr>\n",
       "    <tr>\n",
       "      <th>7688629</th>\n",
       "      <td>21981</td>\n",
       "      <td>Pic-lele</td>\n",
       "      <td>Kids</td>\n",
       "      <td>TV</td>\n",
       "      <td>Unknown</td>\n",
       "      <td>6.33</td>\n",
       "      <td>59</td>\n",
       "      <td>48766</td>\n",
       "    </tr>\n",
       "    <tr>\n",
       "      <th>7689759</th>\n",
       "      <td>33846</td>\n",
       "      <td>Yurugaro</td>\n",
       "      <td>Comedy, Fantasy</td>\n",
       "      <td>Special</td>\n",
       "      <td>Unknown</td>\n",
       "      <td>4.74</td>\n",
       "      <td>153</td>\n",
       "      <td>13954</td>\n",
       "    </tr>\n",
       "  </tbody>\n",
       "</table>\n",
       "</div>"
      ],
      "text/plain": [
       "         anime_id               name                   genre     type episodes  rating_x  members  user_id\n",
       "7686348     32237      Burutabu-chan  Comedy, Fantasy, Magic       TV  Unknown      5.00       37    12431\n",
       "7686525     27551  Deko Boko Friends            Comedy, Kids       TV  Unknown      7.14       61    48766\n",
       "7688629     21981           Pic-lele                    Kids       TV  Unknown      6.33       59    48766\n",
       "7689759     33846           Yurugaro         Comedy, Fantasy  Special  Unknown      4.74      153    13954"
      ]
     },
     "execution_count": 16,
     "metadata": {},
     "output_type": "execute_result"
    }
   ],
   "source": [
    "invalid_literal_rows = merged_df[~merged_df['episodes'].astype(str).str.isnumeric()]\n",
    "invalid_literal_rows"
   ]
  },
  {
   "cell_type": "markdown",
   "id": "b3eeb241-0042-4487-8b68-6256913f0a57",
   "metadata": {},
   "source": [
    "## Check if the episodes column contains 0 values"
   ]
  },
  {
   "cell_type": "code",
   "execution_count": 17,
   "id": "917c265e-dc26-4300-9676-60c8798cf750",
   "metadata": {},
   "outputs": [
    {
     "data": {
      "text/html": [
       "<div>\n",
       "<style scoped>\n",
       "    .dataframe tbody tr th:only-of-type {\n",
       "        vertical-align: middle;\n",
       "    }\n",
       "\n",
       "    .dataframe tbody tr th {\n",
       "        vertical-align: top;\n",
       "    }\n",
       "\n",
       "    .dataframe thead th {\n",
       "        text-align: right;\n",
       "    }\n",
       "</style>\n",
       "<table border=\"1\" class=\"dataframe\">\n",
       "  <thead>\n",
       "    <tr style=\"text-align: right;\">\n",
       "      <th></th>\n",
       "      <th>anime_id</th>\n",
       "      <th>name</th>\n",
       "      <th>genre</th>\n",
       "      <th>type</th>\n",
       "      <th>episodes</th>\n",
       "      <th>rating_x</th>\n",
       "      <th>members</th>\n",
       "      <th>user_id</th>\n",
       "    </tr>\n",
       "  </thead>\n",
       "  <tbody>\n",
       "  </tbody>\n",
       "</table>\n",
       "</div>"
      ],
      "text/plain": [
       "Empty DataFrame\n",
       "Columns: [anime_id, name, genre, type, episodes, rating_x, members, user_id]\n",
       "Index: []"
      ]
     },
     "execution_count": 17,
     "metadata": {},
     "output_type": "execute_result"
    }
   ],
   "source": [
    "merged_df[merged_df['episodes']==0]"
   ]
  },
  {
   "cell_type": "markdown",
   "id": "ea90d5e9-1701-4173-a45d-1498305942f8",
   "metadata": {},
   "source": [
    "## we will assign 0 to the unknown rows and convert it to integer"
   ]
  },
  {
   "cell_type": "code",
   "execution_count": 18,
   "id": "eff20bcd-17a0-46af-ac79-2750e5680fd9",
   "metadata": {
    "scrolled": true
   },
   "outputs": [
    {
     "data": {
      "text/html": [
       "<div>\n",
       "<style scoped>\n",
       "    .dataframe tbody tr th:only-of-type {\n",
       "        vertical-align: middle;\n",
       "    }\n",
       "\n",
       "    .dataframe tbody tr th {\n",
       "        vertical-align: top;\n",
       "    }\n",
       "\n",
       "    .dataframe thead th {\n",
       "        text-align: right;\n",
       "    }\n",
       "</style>\n",
       "<table border=\"1\" class=\"dataframe\">\n",
       "  <thead>\n",
       "    <tr style=\"text-align: right;\">\n",
       "      <th></th>\n",
       "      <th>anime_id</th>\n",
       "      <th>name</th>\n",
       "      <th>genre</th>\n",
       "      <th>type</th>\n",
       "      <th>episodes</th>\n",
       "      <th>rating</th>\n",
       "      <th>members</th>\n",
       "      <th>user_id</th>\n",
       "    </tr>\n",
       "  </thead>\n",
       "  <tbody>\n",
       "    <tr>\n",
       "      <th>0</th>\n",
       "      <td>32281</td>\n",
       "      <td>Kimi no Na wa.</td>\n",
       "      <td>Drama, Romance, School, Supernatural</td>\n",
       "      <td>Movie</td>\n",
       "      <td>1</td>\n",
       "      <td>9.37</td>\n",
       "      <td>200630</td>\n",
       "      <td>99</td>\n",
       "    </tr>\n",
       "    <tr>\n",
       "      <th>1</th>\n",
       "      <td>32281</td>\n",
       "      <td>Kimi no Na wa.</td>\n",
       "      <td>Drama, Romance, School, Supernatural</td>\n",
       "      <td>Movie</td>\n",
       "      <td>1</td>\n",
       "      <td>9.37</td>\n",
       "      <td>200630</td>\n",
       "      <td>152</td>\n",
       "    </tr>\n",
       "    <tr>\n",
       "      <th>2</th>\n",
       "      <td>32281</td>\n",
       "      <td>Kimi no Na wa.</td>\n",
       "      <td>Drama, Romance, School, Supernatural</td>\n",
       "      <td>Movie</td>\n",
       "      <td>1</td>\n",
       "      <td>9.37</td>\n",
       "      <td>200630</td>\n",
       "      <td>244</td>\n",
       "    </tr>\n",
       "    <tr>\n",
       "      <th>3</th>\n",
       "      <td>32281</td>\n",
       "      <td>Kimi no Na wa.</td>\n",
       "      <td>Drama, Romance, School, Supernatural</td>\n",
       "      <td>Movie</td>\n",
       "      <td>1</td>\n",
       "      <td>9.37</td>\n",
       "      <td>200630</td>\n",
       "      <td>271</td>\n",
       "    </tr>\n",
       "    <tr>\n",
       "      <th>4</th>\n",
       "      <td>32281</td>\n",
       "      <td>Kimi no Na wa.</td>\n",
       "      <td>Drama, Romance, School, Supernatural</td>\n",
       "      <td>Movie</td>\n",
       "      <td>1</td>\n",
       "      <td>9.37</td>\n",
       "      <td>200630</td>\n",
       "      <td>278</td>\n",
       "    </tr>\n",
       "    <tr>\n",
       "      <th>...</th>\n",
       "      <td>...</td>\n",
       "      <td>...</td>\n",
       "      <td>...</td>\n",
       "      <td>...</td>\n",
       "      <td>...</td>\n",
       "      <td>...</td>\n",
       "      <td>...</td>\n",
       "      <td>...</td>\n",
       "    </tr>\n",
       "    <tr>\n",
       "      <th>7813722</th>\n",
       "      <td>6133</td>\n",
       "      <td>Violence Gekiga Shin David no Hoshi: Inma Dens...</td>\n",
       "      <td>Hentai</td>\n",
       "      <td>OVA</td>\n",
       "      <td>1</td>\n",
       "      <td>4.98</td>\n",
       "      <td>175</td>\n",
       "      <td>39532</td>\n",
       "    </tr>\n",
       "    <tr>\n",
       "      <th>7813723</th>\n",
       "      <td>6133</td>\n",
       "      <td>Violence Gekiga Shin David no Hoshi: Inma Dens...</td>\n",
       "      <td>Hentai</td>\n",
       "      <td>OVA</td>\n",
       "      <td>1</td>\n",
       "      <td>4.98</td>\n",
       "      <td>175</td>\n",
       "      <td>48766</td>\n",
       "    </tr>\n",
       "    <tr>\n",
       "      <th>7813724</th>\n",
       "      <td>6133</td>\n",
       "      <td>Violence Gekiga Shin David no Hoshi: Inma Dens...</td>\n",
       "      <td>Hentai</td>\n",
       "      <td>OVA</td>\n",
       "      <td>1</td>\n",
       "      <td>4.98</td>\n",
       "      <td>175</td>\n",
       "      <td>60365</td>\n",
       "    </tr>\n",
       "    <tr>\n",
       "      <th>7813725</th>\n",
       "      <td>26081</td>\n",
       "      <td>Yasuji no Pornorama: Yacchimae!!</td>\n",
       "      <td>Hentai</td>\n",
       "      <td>Movie</td>\n",
       "      <td>1</td>\n",
       "      <td>5.46</td>\n",
       "      <td>142</td>\n",
       "      <td>27364</td>\n",
       "    </tr>\n",
       "    <tr>\n",
       "      <th>7813726</th>\n",
       "      <td>26081</td>\n",
       "      <td>Yasuji no Pornorama: Yacchimae!!</td>\n",
       "      <td>Hentai</td>\n",
       "      <td>Movie</td>\n",
       "      <td>1</td>\n",
       "      <td>5.46</td>\n",
       "      <td>142</td>\n",
       "      <td>48766</td>\n",
       "    </tr>\n",
       "  </tbody>\n",
       "</table>\n",
       "<p>7813610 rows × 8 columns</p>\n",
       "</div>"
      ],
      "text/plain": [
       "         anime_id                                               name                                 genre   type  episodes  rating  members  user_id\n",
       "0           32281                                     Kimi no Na wa.  Drama, Romance, School, Supernatural  Movie         1    9.37   200630       99\n",
       "1           32281                                     Kimi no Na wa.  Drama, Romance, School, Supernatural  Movie         1    9.37   200630      152\n",
       "2           32281                                     Kimi no Na wa.  Drama, Romance, School, Supernatural  Movie         1    9.37   200630      244\n",
       "3           32281                                     Kimi no Na wa.  Drama, Romance, School, Supernatural  Movie         1    9.37   200630      271\n",
       "4           32281                                     Kimi no Na wa.  Drama, Romance, School, Supernatural  Movie         1    9.37   200630      278\n",
       "...           ...                                                ...                                   ...    ...       ...     ...      ...      ...\n",
       "7813722      6133  Violence Gekiga Shin David no Hoshi: Inma Dens...                                Hentai    OVA         1    4.98      175    39532\n",
       "7813723      6133  Violence Gekiga Shin David no Hoshi: Inma Dens...                                Hentai    OVA         1    4.98      175    48766\n",
       "7813724      6133  Violence Gekiga Shin David no Hoshi: Inma Dens...                                Hentai    OVA         1    4.98      175    60365\n",
       "7813725     26081                   Yasuji no Pornorama: Yacchimae!!                                Hentai  Movie         1    5.46      142    27364\n",
       "7813726     26081                   Yasuji no Pornorama: Yacchimae!!                                Hentai  Movie         1    5.46      142    48766\n",
       "\n",
       "[7813610 rows x 8 columns]"
      ]
     },
     "execution_count": 18,
     "metadata": {},
     "output_type": "execute_result"
    }
   ],
   "source": [
    "merged_df['episodes'] = merged_df['episodes'].replace('Unknown',0).astype(int)\n",
    "merged_df.rename(columns={'rating_x':'rating'}, inplace=True)\n",
    "merged_df"
   ]
  },
  {
   "cell_type": "code",
   "execution_count": 17,
   "id": "c132a08c-6da2-486a-94ae-f105c80c8ec6",
   "metadata": {},
   "outputs": [
    {
     "data": {
      "text/plain": [
       "anime_id    0\n",
       "name        0\n",
       "genre       0\n",
       "type        0\n",
       "episodes    0\n",
       "rating      0\n",
       "members     0\n",
       "user_id     0\n",
       "dtype: int64"
      ]
     },
     "execution_count": 17,
     "metadata": {},
     "output_type": "execute_result"
    }
   ],
   "source": [
    "merged_df.isnull().sum()"
   ]
  },
  {
   "cell_type": "markdown",
   "id": "0de87481-bc7e-4bef-8a24-8433371c7878",
   "metadata": {},
   "source": [
    "## Get the rating value between 1.0 to 5.0 Scale"
   ]
  },
  {
   "cell_type": "code",
   "execution_count": 18,
   "id": "2ecfa013-392d-4d65-a8cd-ec2e77f7c0c6",
   "metadata": {},
   "outputs": [
    {
     "data": {
      "text/html": [
       "<div>\n",
       "<style scoped>\n",
       "    .dataframe tbody tr th:only-of-type {\n",
       "        vertical-align: middle;\n",
       "    }\n",
       "\n",
       "    .dataframe tbody tr th {\n",
       "        vertical-align: top;\n",
       "    }\n",
       "\n",
       "    .dataframe thead th {\n",
       "        text-align: right;\n",
       "    }\n",
       "</style>\n",
       "<table border=\"1\" class=\"dataframe\">\n",
       "  <thead>\n",
       "    <tr style=\"text-align: right;\">\n",
       "      <th></th>\n",
       "      <th>anime_id</th>\n",
       "      <th>name</th>\n",
       "      <th>genre</th>\n",
       "      <th>type</th>\n",
       "      <th>episodes</th>\n",
       "      <th>rating</th>\n",
       "      <th>members</th>\n",
       "      <th>user_id</th>\n",
       "    </tr>\n",
       "  </thead>\n",
       "  <tbody>\n",
       "    <tr>\n",
       "      <th>0</th>\n",
       "      <td>32281</td>\n",
       "      <td>Kimi no Na wa.</td>\n",
       "      <td>Drama, Romance, School, Supernatural</td>\n",
       "      <td>Movie</td>\n",
       "      <td>1</td>\n",
       "      <td>5.0</td>\n",
       "      <td>200630</td>\n",
       "      <td>99</td>\n",
       "    </tr>\n",
       "    <tr>\n",
       "      <th>1</th>\n",
       "      <td>32281</td>\n",
       "      <td>Kimi no Na wa.</td>\n",
       "      <td>Drama, Romance, School, Supernatural</td>\n",
       "      <td>Movie</td>\n",
       "      <td>1</td>\n",
       "      <td>5.0</td>\n",
       "      <td>200630</td>\n",
       "      <td>152</td>\n",
       "    </tr>\n",
       "    <tr>\n",
       "      <th>2</th>\n",
       "      <td>32281</td>\n",
       "      <td>Kimi no Na wa.</td>\n",
       "      <td>Drama, Romance, School, Supernatural</td>\n",
       "      <td>Movie</td>\n",
       "      <td>1</td>\n",
       "      <td>5.0</td>\n",
       "      <td>200630</td>\n",
       "      <td>244</td>\n",
       "    </tr>\n",
       "    <tr>\n",
       "      <th>3</th>\n",
       "      <td>32281</td>\n",
       "      <td>Kimi no Na wa.</td>\n",
       "      <td>Drama, Romance, School, Supernatural</td>\n",
       "      <td>Movie</td>\n",
       "      <td>1</td>\n",
       "      <td>5.0</td>\n",
       "      <td>200630</td>\n",
       "      <td>271</td>\n",
       "    </tr>\n",
       "    <tr>\n",
       "      <th>4</th>\n",
       "      <td>32281</td>\n",
       "      <td>Kimi no Na wa.</td>\n",
       "      <td>Drama, Romance, School, Supernatural</td>\n",
       "      <td>Movie</td>\n",
       "      <td>1</td>\n",
       "      <td>5.0</td>\n",
       "      <td>200630</td>\n",
       "      <td>278</td>\n",
       "    </tr>\n",
       "    <tr>\n",
       "      <th>...</th>\n",
       "      <td>...</td>\n",
       "      <td>...</td>\n",
       "      <td>...</td>\n",
       "      <td>...</td>\n",
       "      <td>...</td>\n",
       "      <td>...</td>\n",
       "      <td>...</td>\n",
       "      <td>...</td>\n",
       "    </tr>\n",
       "    <tr>\n",
       "      <th>7813722</th>\n",
       "      <td>6133</td>\n",
       "      <td>Violence Gekiga Shin David no Hoshi: Inma Dens...</td>\n",
       "      <td>Hentai</td>\n",
       "      <td>OVA</td>\n",
       "      <td>1</td>\n",
       "      <td>2.0</td>\n",
       "      <td>175</td>\n",
       "      <td>39532</td>\n",
       "    </tr>\n",
       "    <tr>\n",
       "      <th>7813723</th>\n",
       "      <td>6133</td>\n",
       "      <td>Violence Gekiga Shin David no Hoshi: Inma Dens...</td>\n",
       "      <td>Hentai</td>\n",
       "      <td>OVA</td>\n",
       "      <td>1</td>\n",
       "      <td>2.0</td>\n",
       "      <td>175</td>\n",
       "      <td>48766</td>\n",
       "    </tr>\n",
       "    <tr>\n",
       "      <th>7813724</th>\n",
       "      <td>6133</td>\n",
       "      <td>Violence Gekiga Shin David no Hoshi: Inma Dens...</td>\n",
       "      <td>Hentai</td>\n",
       "      <td>OVA</td>\n",
       "      <td>1</td>\n",
       "      <td>2.0</td>\n",
       "      <td>175</td>\n",
       "      <td>60365</td>\n",
       "    </tr>\n",
       "    <tr>\n",
       "      <th>7813725</th>\n",
       "      <td>26081</td>\n",
       "      <td>Yasuji no Pornorama: Yacchimae!!</td>\n",
       "      <td>Hentai</td>\n",
       "      <td>Movie</td>\n",
       "      <td>1</td>\n",
       "      <td>3.0</td>\n",
       "      <td>142</td>\n",
       "      <td>27364</td>\n",
       "    </tr>\n",
       "    <tr>\n",
       "      <th>7813726</th>\n",
       "      <td>26081</td>\n",
       "      <td>Yasuji no Pornorama: Yacchimae!!</td>\n",
       "      <td>Hentai</td>\n",
       "      <td>Movie</td>\n",
       "      <td>1</td>\n",
       "      <td>3.0</td>\n",
       "      <td>142</td>\n",
       "      <td>48766</td>\n",
       "    </tr>\n",
       "  </tbody>\n",
       "</table>\n",
       "<p>7813610 rows × 8 columns</p>\n",
       "</div>"
      ],
      "text/plain": [
       "         anime_id                                               name                                 genre   type  episodes  rating  members  user_id\n",
       "0           32281                                     Kimi no Na wa.  Drama, Romance, School, Supernatural  Movie         1     5.0   200630       99\n",
       "1           32281                                     Kimi no Na wa.  Drama, Romance, School, Supernatural  Movie         1     5.0   200630      152\n",
       "2           32281                                     Kimi no Na wa.  Drama, Romance, School, Supernatural  Movie         1     5.0   200630      244\n",
       "3           32281                                     Kimi no Na wa.  Drama, Romance, School, Supernatural  Movie         1     5.0   200630      271\n",
       "4           32281                                     Kimi no Na wa.  Drama, Romance, School, Supernatural  Movie         1     5.0   200630      278\n",
       "...           ...                                                ...                                   ...    ...       ...     ...      ...      ...\n",
       "7813722      6133  Violence Gekiga Shin David no Hoshi: Inma Dens...                                Hentai    OVA         1     2.0      175    39532\n",
       "7813723      6133  Violence Gekiga Shin David no Hoshi: Inma Dens...                                Hentai    OVA         1     2.0      175    48766\n",
       "7813724      6133  Violence Gekiga Shin David no Hoshi: Inma Dens...                                Hentai    OVA         1     2.0      175    60365\n",
       "7813725     26081                   Yasuji no Pornorama: Yacchimae!!                                Hentai  Movie         1     3.0      142    27364\n",
       "7813726     26081                   Yasuji no Pornorama: Yacchimae!!                                Hentai  Movie         1     3.0      142    48766\n",
       "\n",
       "[7813610 rows x 8 columns]"
      ]
     },
     "execution_count": 18,
     "metadata": {},
     "output_type": "execute_result"
    }
   ],
   "source": [
    "merged_df['rating'] = merged_df['rating']/2\n",
    "merged_df['rating'] = merged_df['rating'].round()\n",
    "merged_df"
   ]
  },
  {
   "cell_type": "markdown",
   "id": "e5c90d44-ae67-4edf-8559-b936fa44b60a",
   "metadata": {},
   "source": [
    "## See the Minumum and the Maximum Rating Value"
   ]
  },
  {
   "cell_type": "code",
   "execution_count": 19,
   "id": "a92f6651-9971-4692-b692-e0c97ebf3a8d",
   "metadata": {},
   "outputs": [
    {
     "name": "stdout",
     "output_type": "stream",
     "text": [
      "Highest rating 5.0\n",
      "Lowest rating 1.0\n"
     ]
    }
   ],
   "source": [
    "print('Highest rating',merged_df.rating.max())\n",
    "print('Lowest rating',merged_df.rating.min())"
   ]
  },
  {
   "cell_type": "markdown",
   "id": "269d9174-ad1f-4c88-b90b-f33621058cbe",
   "metadata": {},
   "source": [
    "## Convert the genre and types columns to categorical datatype"
   ]
  },
  {
   "cell_type": "code",
   "execution_count": 20,
   "id": "47931a8b-6553-4fd7-b5ed-b6c13ea3dbfc",
   "metadata": {},
   "outputs": [
    {
     "data": {
      "text/plain": [
       "type     category\n",
       "genre    category\n",
       "dtype: object"
      ]
     },
     "execution_count": 20,
     "metadata": {},
     "output_type": "execute_result"
    }
   ],
   "source": [
    "merged_df[['type','genre']] = merged_df[['type','genre']].astype(\"category\")\n",
    "merged_df[['type','genre']].dtypes"
   ]
  },
  {
   "cell_type": "markdown",
   "id": "51194a31-fe7c-4a41-8859-a641fc0b5d15",
   "metadata": {},
   "source": [
    "# Descriptive Statistics"
   ]
  },
  {
   "cell_type": "code",
   "execution_count": 21,
   "id": "183bbb2d-4bb4-428b-bd22-3897649189d1",
   "metadata": {},
   "outputs": [
    {
     "data": {
      "text/html": [
       "<div>\n",
       "<style scoped>\n",
       "    .dataframe tbody tr th:only-of-type {\n",
       "        vertical-align: middle;\n",
       "    }\n",
       "\n",
       "    .dataframe tbody tr th {\n",
       "        vertical-align: top;\n",
       "    }\n",
       "\n",
       "    .dataframe thead th {\n",
       "        text-align: right;\n",
       "    }\n",
       "</style>\n",
       "<table border=\"1\" class=\"dataframe\">\n",
       "  <thead>\n",
       "    <tr style=\"text-align: right;\">\n",
       "      <th></th>\n",
       "      <th>anime_id</th>\n",
       "      <th>episodes</th>\n",
       "      <th>rating</th>\n",
       "      <th>members</th>\n",
       "      <th>user_id</th>\n",
       "    </tr>\n",
       "  </thead>\n",
       "  <tbody>\n",
       "    <tr>\n",
       "      <th>count</th>\n",
       "      <td>7.813610e+06</td>\n",
       "      <td>7.813610e+06</td>\n",
       "      <td>7.813610e+06</td>\n",
       "      <td>7.813610e+06</td>\n",
       "      <td>7.813610e+06</td>\n",
       "    </tr>\n",
       "    <tr>\n",
       "      <th>mean</th>\n",
       "      <td>8.908728e+03</td>\n",
       "      <td>1.844149e+01</td>\n",
       "      <td>3.861556e+00</td>\n",
       "      <td>1.786233e+05</td>\n",
       "      <td>3.672799e+04</td>\n",
       "    </tr>\n",
       "    <tr>\n",
       "      <th>std</th>\n",
       "      <td>8.883598e+03</td>\n",
       "      <td>3.508517e+01</td>\n",
       "      <td>3.834383e-01</td>\n",
       "      <td>1.881764e+05</td>\n",
       "      <td>2.099793e+04</td>\n",
       "    </tr>\n",
       "    <tr>\n",
       "      <th>min</th>\n",
       "      <td>1.000000e+00</td>\n",
       "      <td>0.000000e+00</td>\n",
       "      <td>1.000000e+00</td>\n",
       "      <td>2.900000e+01</td>\n",
       "      <td>1.000000e+00</td>\n",
       "    </tr>\n",
       "    <tr>\n",
       "      <th>25%</th>\n",
       "      <td>1.240000e+03</td>\n",
       "      <td>2.000000e+00</td>\n",
       "      <td>4.000000e+00</td>\n",
       "      <td>4.403000e+04</td>\n",
       "      <td>1.897400e+04</td>\n",
       "    </tr>\n",
       "    <tr>\n",
       "      <th>50%</th>\n",
       "      <td>6.213000e+03</td>\n",
       "      <td>1.200000e+01</td>\n",
       "      <td>4.000000e+00</td>\n",
       "      <td>1.104700e+05</td>\n",
       "      <td>3.679100e+04</td>\n",
       "    </tr>\n",
       "    <tr>\n",
       "      <th>75%</th>\n",
       "      <td>1.409300e+04</td>\n",
       "      <td>2.400000e+01</td>\n",
       "      <td>4.000000e+00</td>\n",
       "      <td>2.442680e+05</td>\n",
       "      <td>5.475800e+04</td>\n",
       "    </tr>\n",
       "    <tr>\n",
       "      <th>max</th>\n",
       "      <td>3.451900e+04</td>\n",
       "      <td>1.818000e+03</td>\n",
       "      <td>5.000000e+00</td>\n",
       "      <td>1.013917e+06</td>\n",
       "      <td>7.351600e+04</td>\n",
       "    </tr>\n",
       "  </tbody>\n",
       "</table>\n",
       "</div>"
      ],
      "text/plain": [
       "           anime_id      episodes        rating       members       user_id\n",
       "count  7.813610e+06  7.813610e+06  7.813610e+06  7.813610e+06  7.813610e+06\n",
       "mean   8.908728e+03  1.844149e+01  3.861556e+00  1.786233e+05  3.672799e+04\n",
       "std    8.883598e+03  3.508517e+01  3.834383e-01  1.881764e+05  2.099793e+04\n",
       "min    1.000000e+00  0.000000e+00  1.000000e+00  2.900000e+01  1.000000e+00\n",
       "25%    1.240000e+03  2.000000e+00  4.000000e+00  4.403000e+04  1.897400e+04\n",
       "50%    6.213000e+03  1.200000e+01  4.000000e+00  1.104700e+05  3.679100e+04\n",
       "75%    1.409300e+04  2.400000e+01  4.000000e+00  2.442680e+05  5.475800e+04\n",
       "max    3.451900e+04  1.818000e+03  5.000000e+00  1.013917e+06  7.351600e+04"
      ]
     },
     "execution_count": 21,
     "metadata": {},
     "output_type": "execute_result"
    }
   ],
   "source": [
    "# Describe the numerical columns\n",
    "merged_df.describe(include='number')"
   ]
  },
  {
   "cell_type": "code",
   "execution_count": 22,
   "id": "15376d5e-6e0b-4a20-9c59-140fbff9be4e",
   "metadata": {},
   "outputs": [
    {
     "data": {
      "text/html": [
       "<div>\n",
       "<style scoped>\n",
       "    .dataframe tbody tr th:only-of-type {\n",
       "        vertical-align: middle;\n",
       "    }\n",
       "\n",
       "    .dataframe tbody tr th {\n",
       "        vertical-align: top;\n",
       "    }\n",
       "\n",
       "    .dataframe thead th {\n",
       "        text-align: right;\n",
       "    }\n",
       "</style>\n",
       "<table border=\"1\" class=\"dataframe\">\n",
       "  <thead>\n",
       "    <tr style=\"text-align: right;\">\n",
       "      <th></th>\n",
       "      <th>name</th>\n",
       "      <th>genre</th>\n",
       "      <th>type</th>\n",
       "    </tr>\n",
       "  </thead>\n",
       "  <tbody>\n",
       "    <tr>\n",
       "      <th>count</th>\n",
       "      <td>7813610</td>\n",
       "      <td>7813610</td>\n",
       "      <td>7813610</td>\n",
       "    </tr>\n",
       "    <tr>\n",
       "      <th>unique</th>\n",
       "      <td>11161</td>\n",
       "      <td>3154</td>\n",
       "      <td>6</td>\n",
       "    </tr>\n",
       "    <tr>\n",
       "      <th>top</th>\n",
       "      <td>Death Note</td>\n",
       "      <td>Hentai</td>\n",
       "      <td>TV</td>\n",
       "    </tr>\n",
       "    <tr>\n",
       "      <th>freq</th>\n",
       "      <td>39340</td>\n",
       "      <td>62435</td>\n",
       "      <td>5283595</td>\n",
       "    </tr>\n",
       "  </tbody>\n",
       "</table>\n",
       "</div>"
      ],
      "text/plain": [
       "              name    genre     type\n",
       "count      7813610  7813610  7813610\n",
       "unique       11161     3154        6\n",
       "top     Death Note   Hentai       TV\n",
       "freq         39340    62435  5283595"
      ]
     },
     "execution_count": 22,
     "metadata": {},
     "output_type": "execute_result"
    }
   ],
   "source": [
    "# Describe the categorical and object columns\n",
    "merged_df.describe(include=['object','category'])"
   ]
  },
  {
   "cell_type": "markdown",
   "id": "94febafc-d056-4ec3-b6f1-487d08a89fb3",
   "metadata": {},
   "source": [
    "# Data Visualisation"
   ]
  },
  {
   "cell_type": "markdown",
   "id": "f85c2786-be19-4ccb-83b9-7ad7cafc5ea1",
   "metadata": {},
   "source": [
    "## Visualise the anime distribution"
   ]
  },
  {
   "cell_type": "code",
   "execution_count": 87,
   "id": "60004b6f-c58f-4bc4-8761-31bd4d9524a6",
   "metadata": {},
   "outputs": [
    {
     "data": {
      "image/png": "[encoded data removed]",
      "text/plain": [
       "<Figure size 1000x600 with 1 Axes>"
      ]
     },
     "metadata": {},
     "output_type": "display_data"
    }
   ],
   "source": [
    "# create a barplot for anime types\n",
    "plt.figure(figsize=(10,6))\n",
    "ax = sns.countplot(data=merged_df,x='type')\n",
    "plt.title(\"Distribution of Anime Type\")\n",
    "plt.xlabel(\"Anime Type\")\n",
    "plt.ylabel(\"Count\")\n",
    "ax.bar_label(ax.containers[0])\n",
    "plt.xticks(rotation=45)\n",
    "plt.show()"
   ]
  },
  {
   "cell_type": "markdown",
   "id": "fac4a4de-07ce-4388-a57f-189248a85650",
   "metadata": {},
   "source": [
    "## Rating Distribution"
   ]
  },
  {
   "cell_type": "code",
   "execution_count": 89,
   "id": "f63b1df6-37eb-4388-8ade-1ae472b9f059",
   "metadata": {},
   "outputs": [
    {
     "data": {
      "image/png": "[encoded data removed]",
      "text/plain": [
       "<Figure size 1000x600 with 1 Axes>"
      ]
     },
     "metadata": {},
     "output_type": "display_data"
    }
   ],
   "source": [
    "# Create histogram  of ratings\n",
    "plt.figure(figsize=(10,6))\n",
    "plt.hist(merged_df[\"rating\"],bins= 20, edgecolor=\"black\")\n",
    "plt.title(\"Distribution of Ratings\")\n",
    "plt.xlabel(\"Rating\")\n",
    "plt.ylabel(\"Frequency\")\n",
    "plt.show()"
   ]
  },
  {
   "cell_type": "markdown",
   "id": "c6db9f8e-06c5-41db-9ed5-c5ebeac86d5a",
   "metadata": {},
   "source": [
    "## Rating vs. Popularity"
   ]
  },
  {
   "cell_type": "code",
   "execution_count": 90,
   "id": "6b8da8eb-efc8-4938-94b3-9ed0e501c550",
   "metadata": {},
   "outputs": [
    {
     "data": {
      "image/png": "[encoded data removed]",
      "text/plain": [
       "<Figure size 1000x600 with 1 Axes>"
      ]
     },
     "metadata": {},
     "output_type": "display_data"
    }
   ],
   "source": [
    "# Create a scatter plot of ratings vs popularity\n",
    "plt.figure(figsize=(10,6))\n",
    "sns.scatterplot(data=merged_df,x='rating',y=\"members\")\n",
    "plt.title(\"Rating vs. Popularity\")\n",
    "plt.xlabel(\"Rating\")\n",
    "plt.ylabel(\"Members\")\n",
    "plt.show()"
   ]
  },
  {
   "cell_type": "markdown",
   "id": "4f4082a4-d7cf-4bdb-be2b-c392cfd44f70",
   "metadata": {},
   "source": [
    "## Ratings by Type Visualisation"
   ]
  },
  {
   "cell_type": "code",
   "execution_count": 91,
   "id": "f92c90d4-61b2-45ff-94f8-f4bd4885f572",
   "metadata": {},
   "outputs": [
    {
     "data": {
      "image/png": "[encoded data removed]",
      "text/plain": [
       "<Figure size 1000x600 with 1 Axes>"
      ]
     },
     "metadata": {},
     "output_type": "display_data"
    }
   ],
   "source": [
    "# Create a box plot of rating by genre\n",
    "plt.figure(figsize=(10,6))\n",
    "sns.boxplot(data=merged_df,x='type',y='rating')\n",
    "plt.title('Rating by Type')\n",
    "plt.xlabel(\"Genre\")\n",
    "plt.ylabel(\"Rating\")\n",
    "plt.xticks(rotation=45)\n",
    "plt.show()"
   ]
  },
  {
   "cell_type": "markdown",
   "id": "477df25c-fd93-4f86-a215-b55f3c99ae26",
   "metadata": {},
   "source": [
    "## Genre Distribution Visualisation"
   ]
  },
  {
   "cell_type": "code",
   "execution_count": 92,
   "id": "2461d4e3-a970-4032-a6a9-7d8e63f63765",
   "metadata": {},
   "outputs": [
    {
     "data": {
      "image/png": "[encoded data removed]",
      "text/plain": [
       "<Figure size 800x800 with 1 Axes>"
      ]
     },
     "metadata": {},
     "output_type": "display_data"
    }
   ],
   "source": [
    "# Create a pie chart of genre distribution\n",
    "genre_counts = merged_df[\"genre\"].value_counts()[:10] # Display 10 genres\n",
    "plt.figure(figsize=(8,8))\n",
    "plt.pie(genre_counts,labels=genre_counts.index,autopct=\"%1.1f%%\",startangle=140)\n",
    "plt.title(\"Top 10 Anime Genres Distribution\")\n",
    "plt.show()"
   ]
  },
  {
   "cell_type": "markdown",
   "id": "74f8a42e-d460-4515-989c-85c74cca52a2",
   "metadata": {},
   "source": [
    "# Exploratory Data Analysis"
   ]
  },
  {
   "cell_type": "markdown",
   "id": "3f76d604-02d2-4678-8eb2-ed2b189a076c",
   "metadata": {},
   "source": [
    "##  Anime Names Value Counts"
   ]
  },
  {
   "cell_type": "code",
   "execution_count": 93,
   "id": "4b265271-ae36-40a8-92f2-d85b1d475dc1",
   "metadata": {},
   "outputs": [
    {
     "data": {
      "text/html": [
       "<div>\n",
       "<style scoped>\n",
       "    .dataframe tbody tr th:only-of-type {\n",
       "        vertical-align: middle;\n",
       "    }\n",
       "\n",
       "    .dataframe tbody tr th {\n",
       "        vertical-align: top;\n",
       "    }\n",
       "\n",
       "    .dataframe thead th {\n",
       "        text-align: right;\n",
       "    }\n",
       "</style>\n",
       "<table border=\"1\" class=\"dataframe\">\n",
       "  <thead>\n",
       "    <tr style=\"text-align: right;\">\n",
       "      <th></th>\n",
       "      <th>name</th>\n",
       "      <th>name_percentage</th>\n",
       "    </tr>\n",
       "  </thead>\n",
       "  <tbody>\n",
       "    <tr>\n",
       "      <th>0</th>\n",
       "      <td>Death Note</td>\n",
       "      <td>0.503480</td>\n",
       "    </tr>\n",
       "    <tr>\n",
       "      <th>1</th>\n",
       "      <td>Sword Art Online</td>\n",
       "      <td>0.391407</td>\n",
       "    </tr>\n",
       "    <tr>\n",
       "      <th>2</th>\n",
       "      <td>Shingeki no Kyojin</td>\n",
       "      <td>0.378609</td>\n",
       "    </tr>\n",
       "    <tr>\n",
       "      <th>3</th>\n",
       "      <td>Code Geass: Hangyaku no Lelouch</td>\n",
       "      <td>0.354740</td>\n",
       "    </tr>\n",
       "    <tr>\n",
       "      <th>4</th>\n",
       "      <td>Elfen Lied</td>\n",
       "      <td>0.352027</td>\n",
       "    </tr>\n",
       "    <tr>\n",
       "      <th>...</th>\n",
       "      <td>...</td>\n",
       "      <td>...</td>\n",
       "    </tr>\n",
       "    <tr>\n",
       "      <th>11156</th>\n",
       "      <td>Youtai Nuhai Zai Shanghai</td>\n",
       "      <td>0.000013</td>\n",
       "    </tr>\n",
       "    <tr>\n",
       "      <th>11157</th>\n",
       "      <td>Nagareboshi no Okurimono</td>\n",
       "      <td>0.000013</td>\n",
       "    </tr>\n",
       "    <tr>\n",
       "      <th>11158</th>\n",
       "      <td>Youkaiden Nekome Kozou</td>\n",
       "      <td>0.000013</td>\n",
       "    </tr>\n",
       "    <tr>\n",
       "      <th>11159</th>\n",
       "      <td>Youkai Ninpouchou Jiraiya! Special</td>\n",
       "      <td>0.000013</td>\n",
       "    </tr>\n",
       "    <tr>\n",
       "      <th>11160</th>\n",
       "      <td>Nintama Rantarou Movie</td>\n",
       "      <td>0.000013</td>\n",
       "    </tr>\n",
       "  </tbody>\n",
       "</table>\n",
       "<p>11161 rows × 2 columns</p>\n",
       "</div>"
      ],
      "text/plain": [
       "                                     name  name_percentage\n",
       "0                              Death Note         0.503480\n",
       "1                        Sword Art Online         0.391407\n",
       "2                      Shingeki no Kyojin         0.378609\n",
       "3         Code Geass: Hangyaku no Lelouch         0.354740\n",
       "4                              Elfen Lied         0.352027\n",
       "...                                   ...              ...\n",
       "11156           Youtai Nuhai Zai Shanghai         0.000013\n",
       "11157            Nagareboshi no Okurimono         0.000013\n",
       "11158              Youkaiden Nekome Kozou         0.000013\n",
       "11159  Youkai Ninpouchou Jiraiya! Special         0.000013\n",
       "11160              Nintama Rantarou Movie         0.000013\n",
       "\n",
       "[11161 rows x 2 columns]"
      ]
     },
     "execution_count": 93,
     "metadata": {},
     "output_type": "execute_result"
    }
   ],
   "source": [
    "name_count = merged_df['name'].value_counts()\n",
    "name_count_total = name_count.sum()\n",
    "name_count_percentage = name_count/name_count_total * 100\n",
    "name_count_percentage.reset_index(name='name_percentage')"
   ]
  },
  {
   "cell_type": "markdown",
   "id": "dca6937e-c645-4f81-93af-ac6f011c2a78",
   "metadata": {},
   "source": [
    "## Genre Value Counts"
   ]
  },
  {
   "cell_type": "code",
   "execution_count": 96,
   "id": "f68c6af9-b15f-4aae-a35d-73c9f0ae260d",
   "metadata": {},
   "outputs": [
    {
     "data": {
      "text/html": [
       "<div>\n",
       "<style scoped>\n",
       "    .dataframe tbody tr th:only-of-type {\n",
       "        vertical-align: middle;\n",
       "    }\n",
       "\n",
       "    .dataframe tbody tr th {\n",
       "        vertical-align: top;\n",
       "    }\n",
       "\n",
       "    .dataframe thead th {\n",
       "        text-align: right;\n",
       "    }\n",
       "</style>\n",
       "<table border=\"1\" class=\"dataframe\">\n",
       "  <thead>\n",
       "    <tr style=\"text-align: right;\">\n",
       "      <th></th>\n",
       "      <th>genre</th>\n",
       "      <th>genre_percentage</th>\n",
       "    </tr>\n",
       "  </thead>\n",
       "  <tbody>\n",
       "    <tr>\n",
       "      <th>0</th>\n",
       "      <td>Hentai</td>\n",
       "      <td>0.799054</td>\n",
       "    </tr>\n",
       "    <tr>\n",
       "      <th>1</th>\n",
       "      <td>Comedy, School, Slice of Life</td>\n",
       "      <td>0.785860</td>\n",
       "    </tr>\n",
       "    <tr>\n",
       "      <th>2</th>\n",
       "      <td>Comedy</td>\n",
       "      <td>0.693073</td>\n",
       "    </tr>\n",
       "    <tr>\n",
       "      <th>3</th>\n",
       "      <td>Comedy, Slice of Life</td>\n",
       "      <td>0.672788</td>\n",
       "    </tr>\n",
       "    <tr>\n",
       "      <th>4</th>\n",
       "      <td>Action, Adventure, Fantasy, Game, Romance</td>\n",
       "      <td>0.640562</td>\n",
       "    </tr>\n",
       "    <tr>\n",
       "      <th>...</th>\n",
       "      <td>...</td>\n",
       "      <td>...</td>\n",
       "    </tr>\n",
       "    <tr>\n",
       "      <th>3149</th>\n",
       "      <td>Action, Demons, Historical, Martial Arts, Samu...</td>\n",
       "      <td>0.000013</td>\n",
       "    </tr>\n",
       "    <tr>\n",
       "      <th>3150</th>\n",
       "      <td>Action, Comedy, School, Slice of Life</td>\n",
       "      <td>0.000013</td>\n",
       "    </tr>\n",
       "    <tr>\n",
       "      <th>3151</th>\n",
       "      <td>Action, Adventure, Demons, Fantasy, Shounen</td>\n",
       "      <td>0.000013</td>\n",
       "    </tr>\n",
       "    <tr>\n",
       "      <th>3152</th>\n",
       "      <td>Action, Comedy, Romance, Shounen</td>\n",
       "      <td>0.000013</td>\n",
       "    </tr>\n",
       "    <tr>\n",
       "      <th>3153</th>\n",
       "      <td>Adventure, Mystery, Sci-Fi, Supernatural</td>\n",
       "      <td>0.000013</td>\n",
       "    </tr>\n",
       "  </tbody>\n",
       "</table>\n",
       "<p>3154 rows × 2 columns</p>\n",
       "</div>"
      ],
      "text/plain": [
       "                                                  genre  genre_percentage\n",
       "0                                                Hentai          0.799054\n",
       "1                         Comedy, School, Slice of Life          0.785860\n",
       "2                                                Comedy          0.693073\n",
       "3                                 Comedy, Slice of Life          0.672788\n",
       "4             Action, Adventure, Fantasy, Game, Romance          0.640562\n",
       "...                                                 ...               ...\n",
       "3149  Action, Demons, Historical, Martial Arts, Samu...          0.000013\n",
       "3150              Action, Comedy, School, Slice of Life          0.000013\n",
       "3151        Action, Adventure, Demons, Fantasy, Shounen          0.000013\n",
       "3152                   Action, Comedy, Romance, Shounen          0.000013\n",
       "3153           Adventure, Mystery, Sci-Fi, Supernatural          0.000013\n",
       "\n",
       "[3154 rows x 2 columns]"
      ]
     },
     "execution_count": 96,
     "metadata": {},
     "output_type": "execute_result"
    }
   ],
   "source": [
    "# Count the number of each genre in the dataset\n",
    "genre_count = merged_df['genre'].value_counts()\n",
    "# Get the total of all genre \n",
    "genre_count_total = genre_count.sum()\n",
    "genre_count_percentage = genre_count/genre_count_total * 100\n",
    "genre_count_percentage.reset_index(name='genre_percentage')"
   ]
  },
  {
   "cell_type": "code",
   "execution_count": 97,
   "id": "f625caf4-1482-401e-a33e-23b25be747ff",
   "metadata": {},
   "outputs": [
    {
     "data": {
      "text/plain": [
       "2477.3652504755864"
      ]
     },
     "execution_count": 97,
     "metadata": {},
     "output_type": "execute_result"
    }
   ],
   "source": [
    "# Genre Average\n",
    "merged_df['genre'].value_counts().mean()"
   ]
  },
  {
   "cell_type": "markdown",
   "id": "b3eb1093-a243-43e3-a694-240253a88bab",
   "metadata": {},
   "source": [
    "## Anime Memebers Percentage"
   ]
  },
  {
   "cell_type": "code",
   "execution_count": 98,
   "id": "fe1c527b-b820-4334-a7b4-7bb17f982a22",
   "metadata": {},
   "outputs": [
    {
     "data": {
      "text/html": [
       "<div>\n",
       "<style scoped>\n",
       "    .dataframe tbody tr th:only-of-type {\n",
       "        vertical-align: middle;\n",
       "    }\n",
       "\n",
       "    .dataframe tbody tr th {\n",
       "        vertical-align: top;\n",
       "    }\n",
       "\n",
       "    .dataframe thead th {\n",
       "        text-align: right;\n",
       "    }\n",
       "</style>\n",
       "<table border=\"1\" class=\"dataframe\">\n",
       "  <thead>\n",
       "    <tr style=\"text-align: right;\">\n",
       "      <th></th>\n",
       "      <th>members</th>\n",
       "      <th>Members_percentage</th>\n",
       "    </tr>\n",
       "  </thead>\n",
       "  <tbody>\n",
       "    <tr>\n",
       "      <th>0</th>\n",
       "      <td>1013917</td>\n",
       "      <td>0.503480</td>\n",
       "    </tr>\n",
       "    <tr>\n",
       "      <th>1</th>\n",
       "      <td>893100</td>\n",
       "      <td>0.391407</td>\n",
       "    </tr>\n",
       "    <tr>\n",
       "      <th>2</th>\n",
       "      <td>896229</td>\n",
       "      <td>0.378609</td>\n",
       "    </tr>\n",
       "    <tr>\n",
       "      <th>3</th>\n",
       "      <td>715151</td>\n",
       "      <td>0.354740</td>\n",
       "    </tr>\n",
       "    <tr>\n",
       "      <th>4</th>\n",
       "      <td>623511</td>\n",
       "      <td>0.352027</td>\n",
       "    </tr>\n",
       "    <tr>\n",
       "      <th>...</th>\n",
       "      <td>...</td>\n",
       "      <td>...</td>\n",
       "    </tr>\n",
       "    <tr>\n",
       "      <th>6478</th>\n",
       "      <td>2447</td>\n",
       "      <td>0.000013</td>\n",
       "    </tr>\n",
       "    <tr>\n",
       "      <th>6479</th>\n",
       "      <td>29</td>\n",
       "      <td>0.000013</td>\n",
       "    </tr>\n",
       "    <tr>\n",
       "      <th>6480</th>\n",
       "      <td>11086</td>\n",
       "      <td>0.000013</td>\n",
       "    </tr>\n",
       "    <tr>\n",
       "      <th>6481</th>\n",
       "      <td>4088</td>\n",
       "      <td>0.000013</td>\n",
       "    </tr>\n",
       "    <tr>\n",
       "      <th>6482</th>\n",
       "      <td>32</td>\n",
       "      <td>0.000013</td>\n",
       "    </tr>\n",
       "  </tbody>\n",
       "</table>\n",
       "<p>6483 rows × 2 columns</p>\n",
       "</div>"
      ],
      "text/plain": [
       "      members  Members_percentage\n",
       "0     1013917            0.503480\n",
       "1      893100            0.391407\n",
       "2      896229            0.378609\n",
       "3      715151            0.354740\n",
       "4      623511            0.352027\n",
       "...       ...                 ...\n",
       "6478     2447            0.000013\n",
       "6479       29            0.000013\n",
       "6480    11086            0.000013\n",
       "6481     4088            0.000013\n",
       "6482       32            0.000013\n",
       "\n",
       "[6483 rows x 2 columns]"
      ]
     },
     "execution_count": 98,
     "metadata": {},
     "output_type": "execute_result"
    }
   ],
   "source": [
    "anime_count = merged_df['members'].value_counts()\n",
    "anime_count_total = anime_count.sum()\n",
    "anime_count_percentage = anime_count/anime_count_total * 100\n",
    "anime_count_percentage.reset_index(name='Members_percentage')"
   ]
  },
  {
   "cell_type": "markdown",
   "id": "ee144485-d12b-410c-8fce-993819f73ed1",
   "metadata": {},
   "source": [
    "## Members Average"
   ]
  },
  {
   "cell_type": "code",
   "execution_count": 99,
   "id": "4562d648-a9b4-454c-86c8-cc3152673d18",
   "metadata": {},
   "outputs": [
    {
     "data": {
      "text/plain": [
       "1205.2460280734228"
      ]
     },
     "execution_count": 99,
     "metadata": {},
     "output_type": "execute_result"
    }
   ],
   "source": [
    "merged_df['members'].value_counts().mean()"
   ]
  },
  {
   "cell_type": "markdown",
   "id": "afcd34c0-28dc-4f6b-971b-506ea41d2fd4",
   "metadata": {},
   "source": [
    "# Anime Type Analysis\n",
    "## How many percent of the anime type "
   ]
  },
  {
   "cell_type": "code",
   "execution_count": 100,
   "id": "245e8480-9627-42f7-b0ae-249cb2846cf1",
   "metadata": {},
   "outputs": [
    {
     "data": {
      "text/html": [
       "<div>\n",
       "<style scoped>\n",
       "    .dataframe tbody tr th:only-of-type {\n",
       "        vertical-align: middle;\n",
       "    }\n",
       "\n",
       "    .dataframe tbody tr th {\n",
       "        vertical-align: top;\n",
       "    }\n",
       "\n",
       "    .dataframe thead th {\n",
       "        text-align: right;\n",
       "    }\n",
       "</style>\n",
       "<table border=\"1\" class=\"dataframe\">\n",
       "  <thead>\n",
       "    <tr style=\"text-align: right;\">\n",
       "      <th></th>\n",
       "      <th>type</th>\n",
       "      <th>type_percentage</th>\n",
       "    </tr>\n",
       "  </thead>\n",
       "  <tbody>\n",
       "    <tr>\n",
       "      <th>0</th>\n",
       "      <td>TV</td>\n",
       "      <td>67.620408</td>\n",
       "    </tr>\n",
       "    <tr>\n",
       "      <th>1</th>\n",
       "      <td>Movie</td>\n",
       "      <td>13.462522</td>\n",
       "    </tr>\n",
       "    <tr>\n",
       "      <th>2</th>\n",
       "      <td>OVA</td>\n",
       "      <td>10.242474</td>\n",
       "    </tr>\n",
       "    <tr>\n",
       "      <th>3</th>\n",
       "      <td>Special</td>\n",
       "      <td>7.158625</td>\n",
       "    </tr>\n",
       "    <tr>\n",
       "      <th>4</th>\n",
       "      <td>ONA</td>\n",
       "      <td>1.176818</td>\n",
       "    </tr>\n",
       "    <tr>\n",
       "      <th>5</th>\n",
       "      <td>Music</td>\n",
       "      <td>0.339152</td>\n",
       "    </tr>\n",
       "  </tbody>\n",
       "</table>\n",
       "</div>"
      ],
      "text/plain": [
       "      type  type_percentage\n",
       "0       TV        67.620408\n",
       "1    Movie        13.462522\n",
       "2      OVA        10.242474\n",
       "3  Special         7.158625\n",
       "4      ONA         1.176818\n",
       "5    Music         0.339152"
      ]
     },
     "execution_count": 100,
     "metadata": {},
     "output_type": "execute_result"
    }
   ],
   "source": [
    "type_count = merged_df['type'].value_counts()\n",
    "type_count_total = anime_count.sum()\n",
    "type_count_percentage = type_count/type_count_total * 100\n",
    "type_count_percentage.reset_index(name='type_percentage')"
   ]
  },
  {
   "cell_type": "markdown",
   "id": "448a94fb-cf25-4901-a8fd-a8ac09b8a184",
   "metadata": {},
   "source": [
    "## Type Average"
   ]
  },
  {
   "cell_type": "code",
   "execution_count": 23,
   "id": "84188f4d-1a17-4b78-9c15-5794eb1d5228",
   "metadata": {},
   "outputs": [
    {
     "data": {
      "text/plain": [
       "1302268.3333333333"
      ]
     },
     "execution_count": 23,
     "metadata": {},
     "output_type": "execute_result"
    }
   ],
   "source": [
    "merged_df.type.value_counts().mean()"
   ]
  },
  {
   "cell_type": "markdown",
   "id": "eee5e622-2dfc-4c88-a562-29b16e216a46",
   "metadata": {},
   "source": [
    "### Anime type distribution"
   ]
  },
  {
   "cell_type": "code",
   "execution_count": 102,
   "id": "b73a47fc-7356-4009-856d-4ee4cd7d11b7",
   "metadata": {},
   "outputs": [
    {
     "name": "stdout",
     "output_type": "stream",
     "text": [
      "Average rating for each anime type:\n",
      " type\n",
      "Movie      3.914955\n",
      "Music      3.572038\n",
      "ONA        3.561989\n",
      "OVA        3.642656\n",
      "Special    3.734973\n",
      "TV         3.904148\n",
      "Name: rating, dtype: float64\n"
     ]
    }
   ],
   "source": [
    "# Anime count for each type \n",
    "type_counts = merged_df[\"type\"].value_counts()\n",
    "# Get the average rating for each type\n",
    "type_average_ratings = merged_df.groupby(\"type\")[\"rating\"].mean()\n",
    "# Print the result\n",
    "print(\"Average rating for each anime type:\\n\",type_average_ratings)"
   ]
  },
  {
   "cell_type": "markdown",
   "id": "1eb48624-d695-4bc7-9df0-e60a1ababec1",
   "metadata": {},
   "source": [
    "## Rating Percentage"
   ]
  },
  {
   "cell_type": "code",
   "execution_count": 103,
   "id": "44d47e1f-1b4e-4659-83f1-736970dc310c",
   "metadata": {},
   "outputs": [
    {
     "data": {
      "text/html": [
       "<div>\n",
       "<style scoped>\n",
       "    .dataframe tbody tr th:only-of-type {\n",
       "        vertical-align: middle;\n",
       "    }\n",
       "\n",
       "    .dataframe tbody tr th {\n",
       "        vertical-align: top;\n",
       "    }\n",
       "\n",
       "    .dataframe thead th {\n",
       "        text-align: right;\n",
       "    }\n",
       "</style>\n",
       "<table border=\"1\" class=\"dataframe\">\n",
       "  <thead>\n",
       "    <tr style=\"text-align: right;\">\n",
       "      <th></th>\n",
       "      <th>rating</th>\n",
       "      <th>rating_percentage</th>\n",
       "    </tr>\n",
       "  </thead>\n",
       "  <tbody>\n",
       "    <tr>\n",
       "      <th>0</th>\n",
       "      <td>4.0</td>\n",
       "      <td>84.072893</td>\n",
       "    </tr>\n",
       "    <tr>\n",
       "      <th>1</th>\n",
       "      <td>3.0</td>\n",
       "      <td>14.587111</td>\n",
       "    </tr>\n",
       "    <tr>\n",
       "      <th>2</th>\n",
       "      <td>5.0</td>\n",
       "      <td>1.148790</td>\n",
       "    </tr>\n",
       "    <tr>\n",
       "      <th>3</th>\n",
       "      <td>2.0</td>\n",
       "      <td>0.167515</td>\n",
       "    </tr>\n",
       "    <tr>\n",
       "      <th>4</th>\n",
       "      <td>1.0</td>\n",
       "      <td>0.023689</td>\n",
       "    </tr>\n",
       "  </tbody>\n",
       "</table>\n",
       "</div>"
      ],
      "text/plain": [
       "   rating  rating_percentage\n",
       "0     4.0          84.072893\n",
       "1     3.0          14.587111\n",
       "2     5.0           1.148790\n",
       "3     2.0           0.167515\n",
       "4     1.0           0.023689"
      ]
     },
     "execution_count": 103,
     "metadata": {},
     "output_type": "execute_result"
    }
   ],
   "source": [
    "rating_count = merged_df['rating'].value_counts()\n",
    "rating_count_total = rating_count.sum()\n",
    "rating_count_percentage = rating_count/rating_count_total * 100\n",
    "rating_count_percentage.reset_index(name='rating_percentage')"
   ]
  },
  {
   "cell_type": "markdown",
   "id": "2072fbe1-669e-49d1-8723-eefcc89b8973",
   "metadata": {},
   "source": [
    "## Episodes Percentage"
   ]
  },
  {
   "cell_type": "code",
   "execution_count": 26,
   "id": "9df259bc-756e-45f0-856a-ecb7258c9bb7",
   "metadata": {},
   "outputs": [
    {
     "data": {
      "text/html": [
       "<div>\n",
       "<style scoped>\n",
       "    .dataframe tbody tr th:only-of-type {\n",
       "        vertical-align: middle;\n",
       "    }\n",
       "\n",
       "    .dataframe tbody tr th {\n",
       "        vertical-align: top;\n",
       "    }\n",
       "\n",
       "    .dataframe thead th {\n",
       "        text-align: right;\n",
       "    }\n",
       "</style>\n",
       "<table border=\"1\" class=\"dataframe\">\n",
       "  <thead>\n",
       "    <tr style=\"text-align: right;\">\n",
       "      <th></th>\n",
       "      <th>episodes</th>\n",
       "      <th>episodes_percentage</th>\n",
       "    </tr>\n",
       "  </thead>\n",
       "  <tbody>\n",
       "    <tr>\n",
       "      <th>0</th>\n",
       "      <td>1</td>\n",
       "      <td>22.667794</td>\n",
       "    </tr>\n",
       "    <tr>\n",
       "      <th>1</th>\n",
       "      <td>12</td>\n",
       "      <td>22.197077</td>\n",
       "    </tr>\n",
       "    <tr>\n",
       "      <th>2</th>\n",
       "      <td>13</td>\n",
       "      <td>12.198267</td>\n",
       "    </tr>\n",
       "    <tr>\n",
       "      <th>3</th>\n",
       "      <td>26</td>\n",
       "      <td>6.941107</td>\n",
       "    </tr>\n",
       "    <tr>\n",
       "      <th>4</th>\n",
       "      <td>24</td>\n",
       "      <td>6.870038</td>\n",
       "    </tr>\n",
       "    <tr>\n",
       "      <th>...</th>\n",
       "      <td>...</td>\n",
       "      <td>...</td>\n",
       "    </tr>\n",
       "    <tr>\n",
       "      <th>179</th>\n",
       "      <td>283</td>\n",
       "      <td>0.000013</td>\n",
       "    </tr>\n",
       "    <tr>\n",
       "      <th>180</th>\n",
       "      <td>475</td>\n",
       "      <td>0.000013</td>\n",
       "    </tr>\n",
       "    <tr>\n",
       "      <th>181</th>\n",
       "      <td>83</td>\n",
       "      <td>0.000013</td>\n",
       "    </tr>\n",
       "    <tr>\n",
       "      <th>182</th>\n",
       "      <td>71</td>\n",
       "      <td>0.000013</td>\n",
       "    </tr>\n",
       "    <tr>\n",
       "      <th>183</th>\n",
       "      <td>132</td>\n",
       "      <td>0.000013</td>\n",
       "    </tr>\n",
       "  </tbody>\n",
       "</table>\n",
       "<p>184 rows × 2 columns</p>\n",
       "</div>"
      ],
      "text/plain": [
       "     episodes  episodes_percentage\n",
       "0           1            22.667794\n",
       "1          12            22.197077\n",
       "2          13            12.198267\n",
       "3          26             6.941107\n",
       "4          24             6.870038\n",
       "..        ...                  ...\n",
       "179       283             0.000013\n",
       "180       475             0.000013\n",
       "181        83             0.000013\n",
       "182        71             0.000013\n",
       "183       132             0.000013\n",
       "\n",
       "[184 rows x 2 columns]"
      ]
     },
     "execution_count": 26,
     "metadata": {},
     "output_type": "execute_result"
    }
   ],
   "source": [
    "episodes_count = merged_df['episodes'].value_counts()\n",
    "\n",
    "episodes_count_total = episodes_count.sum()\n",
    "episodes_count_percentage = episodes_count/episodes_count_total * 100\n",
    "episodes_count_percentage.reset_index(name='episodes_percentage')"
   ]
  },
  {
   "cell_type": "markdown",
   "id": "8db7278a-7a9c-46a4-aa95-e15591bbc6ed",
   "metadata": {},
   "source": [
    "## Episodes Average"
   ]
  },
  {
   "cell_type": "code",
   "execution_count": 105,
   "id": "7e770f41-653e-44aa-aa85-58db5819aca3",
   "metadata": {},
   "outputs": [
    {
     "data": {
      "text/plain": [
       "42465.27173913043"
      ]
     },
     "execution_count": 105,
     "metadata": {},
     "output_type": "execute_result"
    }
   ],
   "source": [
    "merged_df.episodes.value_counts().mean()"
   ]
  },
  {
   "cell_type": "markdown",
   "id": "cf8912c3-d6a2-41d7-b2c6-17de4b3766fc",
   "metadata": {},
   "source": [
    "## Genre Analysis"
   ]
  },
  {
   "cell_type": "markdown",
   "id": "dc7ca836-6a98-42f1-8f76-88633d9e970c",
   "metadata": {},
   "source": [
    "### Top 10 most loved genre"
   ]
  },
  {
   "cell_type": "code",
   "execution_count": 106,
   "id": "a8dddf9d-ab2c-4643-9604-2a6f45ccf81d",
   "metadata": {},
   "outputs": [
    {
     "data": {
      "text/html": [
       "<div>\n",
       "<style scoped>\n",
       "    .dataframe tbody tr th:only-of-type {\n",
       "        vertical-align: middle;\n",
       "    }\n",
       "\n",
       "    .dataframe tbody tr th {\n",
       "        vertical-align: top;\n",
       "    }\n",
       "\n",
       "    .dataframe thead th {\n",
       "        text-align: right;\n",
       "    }\n",
       "</style>\n",
       "<table border=\"1\" class=\"dataframe\">\n",
       "  <thead>\n",
       "    <tr style=\"text-align: right;\">\n",
       "      <th></th>\n",
       "      <th>genre</th>\n",
       "      <th>count</th>\n",
       "    </tr>\n",
       "  </thead>\n",
       "  <tbody>\n",
       "    <tr>\n",
       "      <th>0</th>\n",
       "      <td>Action, Adventure, Drama, Fantasy, Magic, Mili...</td>\n",
       "      <td>24574</td>\n",
       "    </tr>\n",
       "    <tr>\n",
       "      <th>1</th>\n",
       "      <td>Sci-Fi, Thriller</td>\n",
       "      <td>19283</td>\n",
       "    </tr>\n",
       "    <tr>\n",
       "      <th>2</th>\n",
       "      <td>Drama, Fantasy, Romance, Slice of Life, Supern...</td>\n",
       "      <td>17854</td>\n",
       "    </tr>\n",
       "    <tr>\n",
       "      <th>3</th>\n",
       "      <td>Action, Comedy, Historical, Parody, Samurai, S...</td>\n",
       "      <td>15095</td>\n",
       "    </tr>\n",
       "    <tr>\n",
       "      <th>4</th>\n",
       "      <td>Action, Adventure, Shounen, Super Power</td>\n",
       "      <td>8575</td>\n",
       "    </tr>\n",
       "    <tr>\n",
       "      <th>5</th>\n",
       "      <td>Drama, Romance, School, Supernatural</td>\n",
       "      <td>2199</td>\n",
       "    </tr>\n",
       "    <tr>\n",
       "      <th>6</th>\n",
       "      <td>Comedy, Drama, School, Shounen, Sports</td>\n",
       "      <td>1233</td>\n",
       "    </tr>\n",
       "    <tr>\n",
       "      <th>7</th>\n",
       "      <td>Drama, Military, Sci-Fi, Space</td>\n",
       "      <td>903</td>\n",
       "    </tr>\n",
       "    <tr>\n",
       "      <th>8</th>\n",
       "      <td>Drama, School, Shounen</td>\n",
       "      <td>44</td>\n",
       "    </tr>\n",
       "    <tr>\n",
       "      <th>9</th>\n",
       "      <td>Slice of Life</td>\n",
       "      <td>1</td>\n",
       "    </tr>\n",
       "  </tbody>\n",
       "</table>\n",
       "</div>"
      ],
      "text/plain": [
       "                                               genre  count\n",
       "0  Action, Adventure, Drama, Fantasy, Magic, Mili...  24574\n",
       "1                                   Sci-Fi, Thriller  19283\n",
       "2  Drama, Fantasy, Romance, Slice of Life, Supern...  17854\n",
       "3  Action, Comedy, Historical, Parody, Samurai, S...  15095\n",
       "4            Action, Adventure, Shounen, Super Power   8575\n",
       "5               Drama, Romance, School, Supernatural   2199\n",
       "6             Comedy, Drama, School, Shounen, Sports   1233\n",
       "7                     Drama, Military, Sci-Fi, Space    903\n",
       "8                             Drama, School, Shounen     44\n",
       "9                                      Slice of Life      1"
      ]
     },
     "execution_count": 106,
     "metadata": {},
     "output_type": "execute_result"
    }
   ],
   "source": [
    "top10_genre = merged_df.where(merged_df['rating']==5.0).genre.value_counts().sort_values(ascending=False).head(10)\n",
    "five_star = top10_genre.reset_index(name='count')\n",
    "five_star"
   ]
  },
  {
   "cell_type": "markdown",
   "id": "f7b50260-dde3-4ead-ab65-753cf217b0f6",
   "metadata": {},
   "source": [
    "### Top Five 5-Star Genre Rating"
   ]
  },
  {
   "cell_type": "code",
   "execution_count": 107,
   "id": "2b728aa7-c485-4088-8ec6-450737d16fb8",
   "metadata": {},
   "outputs": [
    {
     "data": {
      "text/html": [
       "<div>\n",
       "<style scoped>\n",
       "    .dataframe tbody tr th:only-of-type {\n",
       "        vertical-align: middle;\n",
       "    }\n",
       "\n",
       "    .dataframe tbody tr th {\n",
       "        vertical-align: top;\n",
       "    }\n",
       "\n",
       "    .dataframe thead th {\n",
       "        text-align: right;\n",
       "    }\n",
       "</style>\n",
       "<table border=\"1\" class=\"dataframe\">\n",
       "  <thead>\n",
       "    <tr style=\"text-align: right;\">\n",
       "      <th></th>\n",
       "      <th>genre</th>\n",
       "      <th>count</th>\n",
       "      <th>total_counts</th>\n",
       "      <th>genre_percentage</th>\n",
       "    </tr>\n",
       "  </thead>\n",
       "  <tbody>\n",
       "    <tr>\n",
       "      <th>0</th>\n",
       "      <td>Action, Adventure, Drama, Fantasy, Magic, Mili...</td>\n",
       "      <td>24574</td>\n",
       "      <td>85381</td>\n",
       "      <td>29.0</td>\n",
       "    </tr>\n",
       "    <tr>\n",
       "      <th>1</th>\n",
       "      <td>Sci-Fi, Thriller</td>\n",
       "      <td>19283</td>\n",
       "      <td>85381</td>\n",
       "      <td>23.0</td>\n",
       "    </tr>\n",
       "    <tr>\n",
       "      <th>2</th>\n",
       "      <td>Drama, Fantasy, Romance, Slice of Life, Supern...</td>\n",
       "      <td>17854</td>\n",
       "      <td>85381</td>\n",
       "      <td>21.0</td>\n",
       "    </tr>\n",
       "    <tr>\n",
       "      <th>3</th>\n",
       "      <td>Action, Comedy, Historical, Parody, Samurai, S...</td>\n",
       "      <td>15095</td>\n",
       "      <td>85381</td>\n",
       "      <td>18.0</td>\n",
       "    </tr>\n",
       "    <tr>\n",
       "      <th>4</th>\n",
       "      <td>Action, Adventure, Shounen, Super Power</td>\n",
       "      <td>8575</td>\n",
       "      <td>85381</td>\n",
       "      <td>10.0</td>\n",
       "    </tr>\n",
       "  </tbody>\n",
       "</table>\n",
       "</div>"
      ],
      "text/plain": [
       "                                               genre  count  total_counts  genre_percentage\n",
       "0  Action, Adventure, Drama, Fantasy, Magic, Mili...  24574         85381              29.0\n",
       "1                                   Sci-Fi, Thriller  19283         85381              23.0\n",
       "2  Drama, Fantasy, Romance, Slice of Life, Supern...  17854         85381              21.0\n",
       "3  Action, Comedy, Historical, Parody, Samurai, S...  15095         85381              18.0\n",
       "4            Action, Adventure, Shounen, Super Power   8575         85381              10.0"
      ]
     },
     "execution_count": 107,
     "metadata": {},
     "output_type": "execute_result"
    }
   ],
   "source": [
    "top_5_rating = merged_df[merged_df['rating']==5.0]\n",
    "top= top_5_rating.groupby('genre').size()\n",
    "top_5 = top.nlargest(5).reset_index(name='count')\n",
    "top_5['total_counts'] = top_5['count'].sum()\n",
    "top_5['genre_percentage'] = top_5['count']/top_5['total_counts'] * 100\n",
    "top_5['genre_percentage'] = top_5.genre_percentage.round()\n",
    "top_5"
   ]
  },
  {
   "cell_type": "markdown",
   "id": "d7689fdc-8ee1-42da-a57c-d9fe08b7981d",
   "metadata": {},
   "source": [
    "## Top 10 most disliked genre"
   ]
  },
  {
   "cell_type": "code",
   "execution_count": 108,
   "id": "7187c190-b12a-4650-9416-499c7c4c1fb2",
   "metadata": {},
   "outputs": [
    {
     "data": {
      "text/html": [
       "<div>\n",
       "<style scoped>\n",
       "    .dataframe tbody tr th:only-of-type {\n",
       "        vertical-align: middle;\n",
       "    }\n",
       "\n",
       "    .dataframe tbody tr th {\n",
       "        vertical-align: top;\n",
       "    }\n",
       "\n",
       "    .dataframe thead th {\n",
       "        text-align: right;\n",
       "    }\n",
       "</style>\n",
       "<table border=\"1\" class=\"dataframe\">\n",
       "  <thead>\n",
       "    <tr style=\"text-align: right;\">\n",
       "      <th></th>\n",
       "      <th>genre</th>\n",
       "      <th>count</th>\n",
       "    </tr>\n",
       "  </thead>\n",
       "  <tbody>\n",
       "    <tr>\n",
       "      <th>0</th>\n",
       "      <td>Horror, Sci-Fi</td>\n",
       "      <td>1131</td>\n",
       "    </tr>\n",
       "    <tr>\n",
       "      <th>1</th>\n",
       "      <td>Mecha, Sci-Fi</td>\n",
       "      <td>237</td>\n",
       "    </tr>\n",
       "    <tr>\n",
       "      <th>2</th>\n",
       "      <td>Comedy, Romance</td>\n",
       "      <td>231</td>\n",
       "    </tr>\n",
       "    <tr>\n",
       "      <th>3</th>\n",
       "      <td>Dementia</td>\n",
       "      <td>106</td>\n",
       "    </tr>\n",
       "    <tr>\n",
       "      <th>4</th>\n",
       "      <td>Comedy, Dementia</td>\n",
       "      <td>91</td>\n",
       "    </tr>\n",
       "    <tr>\n",
       "      <th>5</th>\n",
       "      <td>Hentai</td>\n",
       "      <td>15</td>\n",
       "    </tr>\n",
       "    <tr>\n",
       "      <th>6</th>\n",
       "      <td>Action, Comedy, Ecchi</td>\n",
       "      <td>15</td>\n",
       "    </tr>\n",
       "    <tr>\n",
       "      <th>7</th>\n",
       "      <td>Horror</td>\n",
       "      <td>12</td>\n",
       "    </tr>\n",
       "    <tr>\n",
       "      <th>8</th>\n",
       "      <td>Kids</td>\n",
       "      <td>3</td>\n",
       "    </tr>\n",
       "    <tr>\n",
       "      <th>9</th>\n",
       "      <td>Action, Mecha, Sci-Fi</td>\n",
       "      <td>2</td>\n",
       "    </tr>\n",
       "  </tbody>\n",
       "</table>\n",
       "</div>"
      ],
      "text/plain": [
       "                   genre  count\n",
       "0         Horror, Sci-Fi   1131\n",
       "1          Mecha, Sci-Fi    237\n",
       "2        Comedy, Romance    231\n",
       "3               Dementia    106\n",
       "4       Comedy, Dementia     91\n",
       "5                 Hentai     15\n",
       "6  Action, Comedy, Ecchi     15\n",
       "7                 Horror     12\n",
       "8                   Kids      3\n",
       "9  Action, Mecha, Sci-Fi      2"
      ]
     },
     "execution_count": 108,
     "metadata": {},
     "output_type": "execute_result"
    }
   ],
   "source": [
    "top_10_genre = merged_df.where(merged_df['rating']==1.0).genre.value_counts().sort_values(ascending=False).head(10)\n",
    "one_star = top_10_genre.reset_index(name='count')\n",
    "one_star"
   ]
  },
  {
   "cell_type": "markdown",
   "id": "ec7f6302-3c8e-44b0-a650-d95019ba88d7",
   "metadata": {},
   "source": [
    "## The Most loved genre"
   ]
  },
  {
   "cell_type": "code",
   "execution_count": 27,
   "id": "8c61896f-4b1f-4cf6-9a21-7cfc9af4bb53",
   "metadata": {},
   "outputs": [
    {
     "name": "stdout",
     "output_type": "stream",
     "text": [
      "Most loved Genres: genre\n",
      "Drama, Fantasy, Romance, Slice of Life, Supernatural            5.000000\n",
      "Action, Adventure, Drama, Fantasy, Magic, Military, Shounen     5.000000\n",
      "Drama, School, Shounen                                          5.000000\n",
      "Action, Comedy, Historical, Parody, Samurai, Sci-Fi, Shounen    4.821228\n",
      "Drama, Romance, School, Supernatural                            4.662760\n",
      "                                                                  ...   \n",
      "Action, Historical, Kids                                        2.000000\n",
      "Action, Adventure, Demons, Fantasy, Shounen                     2.000000\n",
      "Comedy, Dementia                                                1.851406\n",
      "Horror, Sci-Fi                                                  1.040712\n",
      "Comedy, Dementia, Fantasy, Horror, Music, Parody                1.000000\n",
      "Name: rating, Length: 3154, dtype: float64\n"
     ]
    }
   ],
   "source": [
    "# Calculate the average rating for each genre\n",
    "genre_avg_rating = merged_df.groupby('genre')['rating'].mean()\n",
    "\n",
    "# Sort genres by average rating in descending order to get the most loved genres\n",
    "most_loved_genres = genre_avg_rating.sort_values(ascending=False)\n",
    "\n",
    "# print the most loved gmost_loved_genres\n",
    "print(\"Most loved Genres:\",most_loved_genres)"
   ]
  },
  {
   "cell_type": "markdown",
   "id": "db07fd03-0ffd-4d37-8c69-de23332e580a",
   "metadata": {},
   "source": [
    "### The Most Dislike Genre"
   ]
  },
  {
   "cell_type": "code",
   "execution_count": 28,
   "id": "e4fadb70-5618-49a7-9ee0-ceeb3f45f80e",
   "metadata": {},
   "outputs": [
    {
     "name": "stdout",
     "output_type": "stream",
     "text": [
      "Most Disliked Genres:\n"
     ]
    },
    {
     "data": {
      "text/plain": [
       "genre\n",
       "Comedy, Dementia, Fantasy, Horror, Music, Parody    1.000000\n",
       "Horror, Sci-Fi                                      1.040712\n",
       "Comedy, Dementia                                    1.851406\n",
       "Action, Comedy, Martial Arts, Shounen               2.000000\n",
       "Comedy, Parody, Sports                              2.000000\n",
       "Name: rating, dtype: float64"
      ]
     },
     "metadata": {},
     "output_type": "display_data"
    }
   ],
   "source": [
    "# Sort genres by average rating in ascending order to get the most disliked gmost_loved_genres\n",
    "most_disliked_genres = genre_avg_rating.sort_values()\n",
    "\n",
    "# Print most disliked genres\n",
    "print(\"Most Disliked Genres:\")\n",
    "display(most_disliked_genres.head())"
   ]
  },
  {
   "cell_type": "markdown",
   "id": "ecf9eb76-37e0-456c-b9c0-609590a7b524",
   "metadata": {},
   "source": [
    "## Movie Analysis"
   ]
  },
  {
   "cell_type": "markdown",
   "id": "8b1d87ef-f2a5-4b6c-9892-7a491b249bc5",
   "metadata": {},
   "source": [
    "### What is the percentage of members who somuch love watching movie? "
   ]
  },
  {
   "cell_type": "code",
   "execution_count": 29,
   "id": "7981e39f-21c4-48a9-b0b7-c14335415ee5",
   "metadata": {},
   "outputs": [
    {
     "data": {
      "text/html": [
       "<div>\n",
       "<style scoped>\n",
       "    .dataframe tbody tr th:only-of-type {\n",
       "        vertical-align: middle;\n",
       "    }\n",
       "\n",
       "    .dataframe tbody tr th {\n",
       "        vertical-align: top;\n",
       "    }\n",
       "\n",
       "    .dataframe thead th {\n",
       "        text-align: right;\n",
       "    }\n",
       "</style>\n",
       "<table border=\"1\" class=\"dataframe\">\n",
       "  <thead>\n",
       "    <tr style=\"text-align: right;\">\n",
       "      <th></th>\n",
       "      <th>members</th>\n",
       "      <th>name</th>\n",
       "      <th>liked_percentage</th>\n",
       "    </tr>\n",
       "  </thead>\n",
       "  <tbody>\n",
       "    <tr>\n",
       "      <th>1</th>\n",
       "      <td>72534</td>\n",
       "      <td>Gintama Movie: Kanketsu-hen - Yorozuya yo Eien...</td>\n",
       "      <td>0.53</td>\n",
       "    </tr>\n",
       "    <tr>\n",
       "      <th>3</th>\n",
       "      <td>200630</td>\n",
       "      <td>Kimi no Na wa.</td>\n",
       "      <td>0.46</td>\n",
       "    </tr>\n",
       "    <tr>\n",
       "      <th>2</th>\n",
       "      <td>102733</td>\n",
       "      <td>Koe no Katachi</td>\n",
       "      <td>0.01</td>\n",
       "    </tr>\n",
       "    <tr>\n",
       "      <th>0</th>\n",
       "      <td>62</td>\n",
       "      <td>Mogura no Motoro</td>\n",
       "      <td>0.00</td>\n",
       "    </tr>\n",
       "  </tbody>\n",
       "</table>\n",
       "</div>"
      ],
      "text/plain": [
       "   members                                               name  liked_percentage\n",
       "1    72534  Gintama Movie: Kanketsu-hen - Yorozuya yo Eien...              0.53\n",
       "3   200630                                     Kimi no Na wa.              0.46\n",
       "2   102733                                     Koe no Katachi              0.01\n",
       "0       62                                   Mogura no Motoro              0.00"
      ]
     },
     "execution_count": 29,
     "metadata": {},
     "output_type": "execute_result"
    }
   ],
   "source": [
    "rating=merged_df[(merged_df['type']=='Movie') & (merged_df['rating']==5.0)].groupby(by=['members','name'])\n",
    "total_rating = rating.size()\n",
    "users = total_rating\n",
    "liked_percentage = users/users.sum()\n",
    "top_liked = liked_percentage.reset_index(name='liked_percentage')\n",
    "top_liked.sort_values(by='liked_percentage',ascending=False).round(2)"
   ]
  },
  {
   "cell_type": "markdown",
   "id": "905d225b-32ec-4d4f-baeb-47a08ba52e95",
   "metadata": {},
   "source": [
    "### Which are the top five movies?"
   ]
  },
  {
   "cell_type": "code",
   "execution_count": 30,
   "id": "51c3184e-447c-4d9c-883e-e5d7d83f070d",
   "metadata": {},
   "outputs": [
    {
     "data": {
      "text/html": [
       "<div>\n",
       "<style scoped>\n",
       "    .dataframe tbody tr th:only-of-type {\n",
       "        vertical-align: middle;\n",
       "    }\n",
       "\n",
       "    .dataframe tbody tr th {\n",
       "        vertical-align: top;\n",
       "    }\n",
       "\n",
       "    .dataframe thead th {\n",
       "        text-align: right;\n",
       "    }\n",
       "</style>\n",
       "<table border=\"1\" class=\"dataframe\">\n",
       "  <thead>\n",
       "    <tr style=\"text-align: right;\">\n",
       "      <th></th>\n",
       "      <th>members</th>\n",
       "      <th>name</th>\n",
       "      <th>type</th>\n",
       "      <th>genre</th>\n",
       "      <th>genre_count</th>\n",
       "      <th>genre_percentage</th>\n",
       "    </tr>\n",
       "  </thead>\n",
       "  <tbody>\n",
       "    <tr>\n",
       "      <th>76214</th>\n",
       "      <td>72534</td>\n",
       "      <td>Gintama Movie: Kanketsu-hen - Yorozuya yo Eien...</td>\n",
       "      <td>Movie</td>\n",
       "      <td>Action, Comedy, Historical, Parody, Samurai, S...</td>\n",
       "      <td>2525</td>\n",
       "      <td>52.95</td>\n",
       "    </tr>\n",
       "    <tr>\n",
       "      <th>248620</th>\n",
       "      <td>200630</td>\n",
       "      <td>Kimi no Na wa.</td>\n",
       "      <td>Movie</td>\n",
       "      <td>Drama, Romance, School, Supernatural</td>\n",
       "      <td>2199</td>\n",
       "      <td>46.11</td>\n",
       "    </tr>\n",
       "    <tr>\n",
       "      <th>191874</th>\n",
       "      <td>102733</td>\n",
       "      <td>Koe no Katachi</td>\n",
       "      <td>Movie</td>\n",
       "      <td>Drama, School, Shounen</td>\n",
       "      <td>44</td>\n",
       "      <td>0.92</td>\n",
       "    </tr>\n",
       "    <tr>\n",
       "      <th>59917</th>\n",
       "      <td>62</td>\n",
       "      <td>Mogura no Motoro</td>\n",
       "      <td>Movie</td>\n",
       "      <td>Slice of Life</td>\n",
       "      <td>1</td>\n",
       "      <td>0.02</td>\n",
       "    </tr>\n",
       "    <tr>\n",
       "      <th>0</th>\n",
       "      <td>62</td>\n",
       "      <td>Gintama Movie: Kanketsu-hen - Yorozuya yo Eien...</td>\n",
       "      <td>Movie</td>\n",
       "      <td>Action</td>\n",
       "      <td>0</td>\n",
       "      <td>0.00</td>\n",
       "    </tr>\n",
       "  </tbody>\n",
       "</table>\n",
       "</div>"
      ],
      "text/plain": [
       "        members                                               name   type                                              genre  genre_count  genre_percentage\n",
       "76214     72534  Gintama Movie: Kanketsu-hen - Yorozuya yo Eien...  Movie  Action, Comedy, Historical, Parody, Samurai, S...         2525             52.95\n",
       "248620   200630                                     Kimi no Na wa.  Movie               Drama, Romance, School, Supernatural         2199             46.11\n",
       "191874   102733                                     Koe no Katachi  Movie                             Drama, School, Shounen           44              0.92\n",
       "59917        62                                   Mogura no Motoro  Movie                                      Slice of Life            1              0.02\n",
       "0            62  Gintama Movie: Kanketsu-hen - Yorozuya yo Eien...  Movie                                             Action            0              0.00"
      ]
     },
     "execution_count": 30,
     "metadata": {},
     "output_type": "execute_result"
    }
   ],
   "source": [
    "five_star_rating = merged_df[(merged_df['rating']==5.0) & (merged_df['type']=='Movie')]\n",
    "genre_count = five_star_rating.groupby(by=['members','name','type','genre'])['genre'].count()\n",
    "genre_df = genre_count.reset_index(name='genre_count')\n",
    "genre_df['genre_total'] = genre_df['genre_count'].sum()\n",
    "genre_df['genre_percentage'] = genre_df['genre_count']/genre_df['genre_total']*100\n",
    "genre_df.drop(columns=['genre_total'],inplace=True)\n",
    "genre_DF = genre_df.sort_values(by=['genre_count','genre_percentage'],ascending=False).head(5)\n",
    "#genre_DF = genre_df[['type', 'genre', 'genre_count', 'genre_percentage']]\n",
    "genre_DF['genre_percentage'] = genre_DF['genre_percentage'].round(2)\n",
    "genre_DF"
   ]
  },
  {
   "cell_type": "markdown",
   "id": "e14670bf-d16e-4eb1-84b0-3316dde97a53",
   "metadata": {},
   "source": [
    "### Which Movie is mostly dislike by members?"
   ]
  },
  {
   "cell_type": "code",
   "execution_count": 31,
   "id": "270ff691-9f3a-4408-95f7-4659a586d090",
   "metadata": {},
   "outputs": [
    {
     "data": {
      "text/html": [
       "<div>\n",
       "<style scoped>\n",
       "    .dataframe tbody tr th:only-of-type {\n",
       "        vertical-align: middle;\n",
       "    }\n",
       "\n",
       "    .dataframe tbody tr th {\n",
       "        vertical-align: top;\n",
       "    }\n",
       "\n",
       "    .dataframe thead th {\n",
       "        text-align: right;\n",
       "    }\n",
       "</style>\n",
       "<table border=\"1\" class=\"dataframe\">\n",
       "  <thead>\n",
       "    <tr style=\"text-align: right;\">\n",
       "      <th></th>\n",
       "      <th>members</th>\n",
       "      <th>name</th>\n",
       "      <th>liked_percentage</th>\n",
       "    </tr>\n",
       "  </thead>\n",
       "  <tbody>\n",
       "    <tr>\n",
       "      <th>3</th>\n",
       "      <td>1893</td>\n",
       "      <td>Ningen Doubutsuen</td>\n",
       "      <td>0.74</td>\n",
       "    </tr>\n",
       "    <tr>\n",
       "      <th>2</th>\n",
       "      <td>1817</td>\n",
       "      <td>Nami</td>\n",
       "      <td>0.23</td>\n",
       "    </tr>\n",
       "    <tr>\n",
       "      <th>0</th>\n",
       "      <td>121</td>\n",
       "      <td>Roboteuwang Sseonsyakeu</td>\n",
       "      <td>0.02</td>\n",
       "    </tr>\n",
       "    <tr>\n",
       "      <th>1</th>\n",
       "      <td>129</td>\n",
       "      <td>Hi Gekiga Ukiyoe Senya Ichiya</td>\n",
       "      <td>0.02</td>\n",
       "    </tr>\n",
       "  </tbody>\n",
       "</table>\n",
       "</div>"
      ],
      "text/plain": [
       "   members                           name  liked_percentage\n",
       "3     1893              Ningen Doubutsuen              0.74\n",
       "2     1817                           Nami              0.23\n",
       "0      121        Roboteuwang Sseonsyakeu              0.02\n",
       "1      129  Hi Gekiga Ukiyoe Senya Ichiya              0.02"
      ]
     },
     "execution_count": 31,
     "metadata": {},
     "output_type": "execute_result"
    }
   ],
   "source": [
    "rating=merged_df[(merged_df['type']=='Movie') & (merged_df['rating']==1.0)].groupby(by=['members','name'])\n",
    "total_rating = rating.size()\n",
    "users = total_rating\n",
    "liked_percentage = users/users.sum()\n",
    "top_liked = liked_percentage.reset_index(name='liked_percentage')\n",
    "top_liked.sort_values(by='liked_percentage',ascending=False).round(2)"
   ]
  },
  {
   "cell_type": "markdown",
   "id": "9862513c-e1f6-4283-980e-295667079d0f",
   "metadata": {},
   "source": [
    "### Which are the Most Frequently Watched Movies?"
   ]
  },
  {
   "cell_type": "code",
   "execution_count": 32,
   "id": "8fc11858-2fa7-4a94-9aa0-a478d9fb2a80",
   "metadata": {},
   "outputs": [
    {
     "name": "stdout",
     "output_type": "stream",
     "text": [
      "         anime_id                           name                           genre   type  episodes  rating  members  user_id\n",
      "135237        199  Sen to Chihiro no Kamikakushi  Adventure, Drama, Supernatural  Movie         1     4.0   466254    55246\n",
      "131701        199  Sen to Chihiro no Kamikakushi  Adventure, Drama, Supernatural  Movie         1     4.0   466254    45642\n",
      "131712        199  Sen to Chihiro no Kamikakushi  Adventure, Drama, Supernatural  Movie         1     4.0   466254    45677\n",
      "131711        199  Sen to Chihiro no Kamikakushi  Adventure, Drama, Supernatural  Movie         1     4.0   466254    45675\n",
      "131710        199  Sen to Chihiro no Kamikakushi  Adventure, Drama, Supernatural  Movie         1     4.0   466254    45673\n",
      "...           ...                            ...                             ...    ...       ...     ...      ...      ...\n",
      "7689399     24803               Tobidasu Ehon 3D                            Kids  Movie         1     3.0       42    48766\n",
      "7686170     33342              Ari to Kirigirisu                     Kids, Music  Movie         1     2.0       42    12431\n",
      "7689402     26149   Tobiuo no Boy wa Byouki Desu       Fantasy, Historical, Kids  Movie         1     4.0       41    48766\n",
      "7688415     33343                Omusubi Kororin                   Fantasy, Kids  Movie         1     2.0       41    12431\n",
      "7687535     32623                     Kasa Jizou             Fantasy, Historical  Movie         1     2.0       40    12431\n",
      "\n",
      "[1051909 rows x 8 columns]\n"
     ]
    }
   ],
   "source": [
    "# Filter rows where type is \"Movie\"\n",
    "movie_df = merged_df[merged_df[\"type\"]==\"Movie\"]\n",
    "\n",
    "# Sort movies by the number of members who have watched them (in ascending order)\n",
    "frequently_watched_movies = movie_df.sort_values(by=\"members\",ascending=False)\n",
    "\n",
    "# Print the most frequently watched mfrequently_watched_movies\n",
    "print(frequently_watched_movies)"
   ]
  },
  {
   "cell_type": "markdown",
   "id": "e4b25aa5-6d08-4fbe-a0ae-aab5e0097c33",
   "metadata": {},
   "source": [
    "## Anime Type Analysis"
   ]
  },
  {
   "cell_type": "code",
   "execution_count": 33,
   "id": "d2f2fe14-c466-4814-beb0-981163363358",
   "metadata": {},
   "outputs": [
    {
     "data": {
      "text/html": [
       "<div>\n",
       "<style scoped>\n",
       "    .dataframe tbody tr th:only-of-type {\n",
       "        vertical-align: middle;\n",
       "    }\n",
       "\n",
       "    .dataframe tbody tr th {\n",
       "        vertical-align: top;\n",
       "    }\n",
       "\n",
       "    .dataframe thead th {\n",
       "        text-align: right;\n",
       "    }\n",
       "</style>\n",
       "<table border=\"1\" class=\"dataframe\">\n",
       "  <thead>\n",
       "    <tr style=\"text-align: right;\">\n",
       "      <th></th>\n",
       "      <th>type</th>\n",
       "      <th>anime_type_percentage</th>\n",
       "    </tr>\n",
       "  </thead>\n",
       "  <tbody>\n",
       "    <tr>\n",
       "      <th>0</th>\n",
       "      <td>TV</td>\n",
       "      <td>67.620408</td>\n",
       "    </tr>\n",
       "    <tr>\n",
       "      <th>1</th>\n",
       "      <td>Movie</td>\n",
       "      <td>13.462522</td>\n",
       "    </tr>\n",
       "    <tr>\n",
       "      <th>2</th>\n",
       "      <td>OVA</td>\n",
       "      <td>10.242474</td>\n",
       "    </tr>\n",
       "    <tr>\n",
       "      <th>3</th>\n",
       "      <td>Special</td>\n",
       "      <td>7.158625</td>\n",
       "    </tr>\n",
       "    <tr>\n",
       "      <th>4</th>\n",
       "      <td>ONA</td>\n",
       "      <td>1.176818</td>\n",
       "    </tr>\n",
       "    <tr>\n",
       "      <th>5</th>\n",
       "      <td>Music</td>\n",
       "      <td>0.339152</td>\n",
       "    </tr>\n",
       "  </tbody>\n",
       "</table>\n",
       "</div>"
      ],
      "text/plain": [
       "      type  anime_type_percentage\n",
       "0       TV              67.620408\n",
       "1    Movie              13.462522\n",
       "2      OVA              10.242474\n",
       "3  Special               7.158625\n",
       "4      ONA               1.176818\n",
       "5    Music               0.339152"
      ]
     },
     "execution_count": 33,
     "metadata": {},
     "output_type": "execute_result"
    }
   ],
   "source": [
    "type_counts = merged_df['type'].value_counts()\n",
    "\n",
    "type_count_total = type_counts.sum()\n",
    "type_count_percentage = type_counts/type_count_total * 100\n",
    "type_count_percentage.reset_index(name='anime_type_percentage')"
   ]
  },
  {
   "cell_type": "markdown",
   "id": "c6708efb-9546-4a77-bb02-548ea203c86f",
   "metadata": {},
   "source": [
    "## Anime types Counts"
   ]
  },
  {
   "cell_type": "code",
   "execution_count": 34,
   "id": "c32dbb5c-4fb4-42fb-834a-88ab1b66593e",
   "metadata": {},
   "outputs": [
    {
     "data": {
      "text/plain": [
       "type\n",
       "Movie      1051909\n",
       "Music        26500\n",
       "ONA          91952\n",
       "OVA         800307\n",
       "Special     559347\n",
       "TV         5283595\n",
       "Name: type, dtype: int64"
      ]
     },
     "execution_count": 34,
     "metadata": {},
     "output_type": "execute_result"
    }
   ],
   "source": [
    "merged_df.groupby('type')['type'].count()"
   ]
  },
  {
   "cell_type": "markdown",
   "id": "c90b835c-7529-434b-af71-84287f67a21b",
   "metadata": {},
   "source": [
    "### The Most Loved Anime Type"
   ]
  },
  {
   "cell_type": "code",
   "execution_count": 35,
   "id": "edd48a55-f3ac-413a-b8a6-a1adbf25a668",
   "metadata": {},
   "outputs": [
    {
     "name": "stdout",
     "output_type": "stream",
     "text": [
      "Most loved Anime Type: Movie\n"
     ]
    }
   ],
   "source": [
    "# Calculate the average rating for each anime type\n",
    "type_avg_rating = merged_df.groupby(\"type\")[\"rating\"].mean()\n",
    "\n",
    "# Find the anime type with the highest average rating\n",
    "most_loved_type = type_avg_rating.idxmax()\n",
    "\n",
    "# Print the most loved anime type\n",
    "print(\"Most loved Anime Type:\",most_loved_type)"
   ]
  },
  {
   "cell_type": "markdown",
   "id": "873da644-f923-42ff-8caf-cfc16c43f107",
   "metadata": {},
   "source": [
    "## Music Rating Analysis\n",
    "### Which users gave the highest rating for music? "
   ]
  },
  {
   "cell_type": "code",
   "execution_count": 36,
   "id": "233f6e57-e669-4154-86da-096e31de891d",
   "metadata": {},
   "outputs": [
    {
     "data": {
      "text/html": [
       "<div>\n",
       "<style scoped>\n",
       "    .dataframe tbody tr th:only-of-type {\n",
       "        vertical-align: middle;\n",
       "    }\n",
       "\n",
       "    .dataframe tbody tr th {\n",
       "        vertical-align: top;\n",
       "    }\n",
       "\n",
       "    .dataframe thead th {\n",
       "        text-align: right;\n",
       "    }\n",
       "</style>\n",
       "<table border=\"1\" class=\"dataframe\">\n",
       "  <thead>\n",
       "    <tr style=\"text-align: right;\">\n",
       "      <th></th>\n",
       "      <th>anime_id</th>\n",
       "      <th>name</th>\n",
       "      <th>genre</th>\n",
       "      <th>type</th>\n",
       "      <th>episodes</th>\n",
       "      <th>rating</th>\n",
       "      <th>members</th>\n",
       "      <th>user_id</th>\n",
       "    </tr>\n",
       "  </thead>\n",
       "  <tbody>\n",
       "    <tr>\n",
       "      <th>1101572</th>\n",
       "      <td>34240</td>\n",
       "      <td>Shelter</td>\n",
       "      <td>Music, Sci-Fi</td>\n",
       "      <td>Music</td>\n",
       "      <td>1</td>\n",
       "      <td>4.0</td>\n",
       "      <td>71136</td>\n",
       "      <td>17</td>\n",
       "    </tr>\n",
       "    <tr>\n",
       "      <th>1101573</th>\n",
       "      <td>34240</td>\n",
       "      <td>Shelter</td>\n",
       "      <td>Music, Sci-Fi</td>\n",
       "      <td>Music</td>\n",
       "      <td>1</td>\n",
       "      <td>4.0</td>\n",
       "      <td>71136</td>\n",
       "      <td>46</td>\n",
       "    </tr>\n",
       "    <tr>\n",
       "      <th>1101574</th>\n",
       "      <td>34240</td>\n",
       "      <td>Shelter</td>\n",
       "      <td>Music, Sci-Fi</td>\n",
       "      <td>Music</td>\n",
       "      <td>1</td>\n",
       "      <td>4.0</td>\n",
       "      <td>71136</td>\n",
       "      <td>77</td>\n",
       "    </tr>\n",
       "    <tr>\n",
       "      <th>1101575</th>\n",
       "      <td>34240</td>\n",
       "      <td>Shelter</td>\n",
       "      <td>Music, Sci-Fi</td>\n",
       "      <td>Music</td>\n",
       "      <td>1</td>\n",
       "      <td>4.0</td>\n",
       "      <td>71136</td>\n",
       "      <td>99</td>\n",
       "    </tr>\n",
       "    <tr>\n",
       "      <th>1101576</th>\n",
       "      <td>34240</td>\n",
       "      <td>Shelter</td>\n",
       "      <td>Music, Sci-Fi</td>\n",
       "      <td>Music</td>\n",
       "      <td>1</td>\n",
       "      <td>4.0</td>\n",
       "      <td>71136</td>\n",
       "      <td>244</td>\n",
       "    </tr>\n",
       "  </tbody>\n",
       "</table>\n",
       "</div>"
      ],
      "text/plain": [
       "         anime_id     name          genre   type  episodes  rating  members  user_id\n",
       "1101572     34240  Shelter  Music, Sci-Fi  Music         1     4.0    71136       17\n",
       "1101573     34240  Shelter  Music, Sci-Fi  Music         1     4.0    71136       46\n",
       "1101574     34240  Shelter  Music, Sci-Fi  Music         1     4.0    71136       77\n",
       "1101575     34240  Shelter  Music, Sci-Fi  Music         1     4.0    71136       99\n",
       "1101576     34240  Shelter  Music, Sci-Fi  Music         1     4.0    71136      244"
      ]
     },
     "execution_count": 36,
     "metadata": {},
     "output_type": "execute_result"
    }
   ],
   "source": [
    "music_rating = merged_df[(merged_df[\"rating\"] <= 5.0) & (merged_df['type'] == \"Music\")]\n",
    "music_rating.head(5)"
   ]
  },
  {
   "cell_type": "markdown",
   "id": "d7a15cf7-0a97-4514-a57d-83d46ec182a5",
   "metadata": {},
   "source": [
    "Shelter is the only music title/name that was placed a 4 star review whith 71136 members who had listed to the song."
   ]
  },
  {
   "cell_type": "markdown",
   "id": "bb967a87-196b-432e-8df8-52a56cec4d37",
   "metadata": {},
   "source": [
    "## Which are the preferred music by random users"
   ]
  },
  {
   "cell_type": "code",
   "execution_count": 37,
   "id": "c3eb9c30-f4d5-4e78-9936-8090d52292e7",
   "metadata": {},
   "outputs": [
    {
     "name": "stdout",
     "output_type": "stream",
     "text": [
      "         anime_id                                               name                                              genre   type  episodes  rating  members  user_id\n",
      "4063346      2768                              CLAMP in Wonderland 2  Action, Comedy, Drama, Fantasy, Magic, Music, ...  Music         1     4.0    13985    29517\n",
      "1794295       731  Interstella5555: The 5tory of The 5ecret 5tar ...                    Adventure, Drama, Music, Sci-Fi  Music         1     4.0    31464    32931\n",
      "5909839      6548  Tengen Toppa Gurren Lagann: Kirameki★Yoko Box ...                                       Ecchi, Music  Music         1     4.0    18991    65682\n",
      "1101959     34240                                            Shelter                                      Music, Sci-Fi  Music         1     4.0    71136    17346\n",
      "5731527     12079                                 Black★Rock Shooter                                      Action, Music  Music         1     4.0    40641    65175\n",
      "6406830      8348       Tengen Toppa Gurren Lagann: Parallel Works 2                                       Mecha, Music  Music         7     4.0    13361    31596\n",
      "5312855     14951                                     Wonderful Rush                                              Music  Music         1     4.0     6807    31898\n",
      "4900289     10050                Macross F Music Clip Shuu: Nyankuri                                              Music  Music         1     4.0     3010    24203\n",
      "5565589     11033                      Natsu-iro Egao de 1, 2, Jump!                                              Music  Music         1     4.0     6939    46256\n",
      "7066218      5016                                        Fluximation                                              Music  Music        14     3.0     2240    53103\n"
     ]
    }
   ],
   "source": [
    "# Filter rows where type is \"music\"\n",
    "music_df = merged_df[merged_df[\"type\"] == \"Music\"]\n",
    "\n",
    "# Generate random indices to select random users\n",
    "num_users = 10\n",
    "random_users_indices = np.random.choice(music_df.index, size=num_users, replace=False)\n",
    "\n",
    "# Get the preferred music by random users with the highest ratings\n",
    "preferred_music = music_df.loc[random_users_indices].sort_values(by=\"rating\",ascending=False)\n",
    "\n",
    "# Print the preferred mmusic\n",
    "print(preferred_music)"
   ]
  },
  {
   "cell_type": "markdown",
   "id": "21779db1-e999-426e-b755-cbe9216b5dfb",
   "metadata": {},
   "source": [
    "### The Most Disliked Music by Random Users"
   ]
  },
  {
   "cell_type": "code",
   "execution_count": 38,
   "id": "40cf05e5-1207-4003-a4ff-91cc77a4c81e",
   "metadata": {},
   "outputs": [
    {
     "name": "stdout",
     "output_type": "stream",
     "text": [
      "         anime_id                                               name                                              genre   type  episodes  rating  members  user_id\n",
      "7066218      5016                                        Fluximation                                              Music  Music        14     3.0     2240    53103\n",
      "4063346      2768                              CLAMP in Wonderland 2  Action, Comedy, Drama, Fantasy, Magic, Music, ...  Music         1     4.0    13985    29517\n",
      "1794295       731  Interstella5555: The 5tory of The 5ecret 5tar ...                    Adventure, Drama, Music, Sci-Fi  Music         1     4.0    31464    32931\n",
      "5909839      6548  Tengen Toppa Gurren Lagann: Kirameki★Yoko Box ...                                       Ecchi, Music  Music         1     4.0    18991    65682\n",
      "1101959     34240                                            Shelter                                      Music, Sci-Fi  Music         1     4.0    71136    17346\n",
      "5731527     12079                                 Black★Rock Shooter                                      Action, Music  Music         1     4.0    40641    65175\n",
      "6406830      8348       Tengen Toppa Gurren Lagann: Parallel Works 2                                       Mecha, Music  Music         7     4.0    13361    31596\n",
      "5312855     14951                                     Wonderful Rush                                              Music  Music         1     4.0     6807    31898\n",
      "4900289     10050                Macross F Music Clip Shuu: Nyankuri                                              Music  Music         1     4.0     3010    24203\n",
      "5565589     11033                      Natsu-iro Egao de 1, 2, Jump!                                              Music  Music         1     4.0     6939    46256\n"
     ]
    }
   ],
   "source": [
    "# Get the preferred music by random users with the highest ratings\n",
    "disliked_music = music_df.loc[random_users_indices].sort_values(by=\"rating\",ascending=True)\n",
    "\n",
    "# Print the preferred mmusic\n",
    "print(disliked_music)"
   ]
  },
  {
   "cell_type": "markdown",
   "id": "6c5c9ea9-4b29-481a-92d0-1dd9d12eb246",
   "metadata": {},
   "source": [
    "## TV Shows Analysis"
   ]
  },
  {
   "cell_type": "markdown",
   "id": "eb64c5cb-725a-4651-a8d6-cac1bf566587",
   "metadata": {},
   "source": [
    "## What is the percentage of users who loved to watch tv shows"
   ]
  },
  {
   "cell_type": "code",
   "execution_count": 39,
   "id": "a8afdad3-a79d-4ef4-b5db-55ee03117974",
   "metadata": {},
   "outputs": [
    {
     "name": "stdout",
     "output_type": "stream",
     "text": [
      "Percentage of users who loved to watch tv shows: 87.42043770229574\n"
     ]
    }
   ],
   "source": [
    "# Filter rows where type \"TV\"\n",
    "tv_df = merged_df[merged_df['type'] == 'TV']\n",
    "\n",
    "# Count the number of users who watched TV shows\n",
    "users_watched_tv = tv_df['members'].sum()\n",
    "\n",
    "# Calculate the total number of users in the dataset\n",
    "total_users = merged_df['members'].sum()\n",
    "\n",
    "# Calculate the percentage of users who loved to watch tv shows\n",
    "percentage_users_watched_tv = (users_watched_tv / total_users) * 100\n",
    "\n",
    "print(\"Percentage of users who loved to watch tv shows:\",percentage_users_watched_tv)"
   ]
  },
  {
   "cell_type": "code",
   "execution_count": 40,
   "id": "5847aaee-1715-49f4-90d2-faef7fd4d7ce",
   "metadata": {},
   "outputs": [
    {
     "data": {
      "text/plain": [
       "array([1212, 'Oban Star-Racers', 'Adventure, Mecha, Sci-Fi, Shounen',\n",
       "       'TV', 26, 4.0, 24156, 13144], dtype=object)"
      ]
     },
     "execution_count": 40,
     "metadata": {},
     "output_type": "execute_result"
    }
   ],
   "source": [
    "random_users = random.choice(merged_df.values)\n",
    "random_users"
   ]
  },
  {
   "cell_type": "markdown",
   "id": "b1cab2ce-662e-4d9c-8409-ea9402264430",
   "metadata": {},
   "source": [
    "## Most Loved Movies with 5 Star Rating by Anime"
   ]
  },
  {
   "cell_type": "code",
   "execution_count": 28,
   "id": "31d301d0-603c-41e1-a80f-3144eb075a29",
   "metadata": {},
   "outputs": [
    {
     "data": {
      "text/html": [
       "<div>\n",
       "<style scoped>\n",
       "    .dataframe tbody tr th:only-of-type {\n",
       "        vertical-align: middle;\n",
       "    }\n",
       "\n",
       "    .dataframe tbody tr th {\n",
       "        vertical-align: top;\n",
       "    }\n",
       "\n",
       "    .dataframe thead th {\n",
       "        text-align: right;\n",
       "    }\n",
       "</style>\n",
       "<table border=\"1\" class=\"dataframe\">\n",
       "  <thead>\n",
       "    <tr style=\"text-align: right;\">\n",
       "      <th></th>\n",
       "      <th>anime_id</th>\n",
       "      <th>name</th>\n",
       "      <th>genre</th>\n",
       "      <th>type</th>\n",
       "      <th>episodes</th>\n",
       "      <th>rating</th>\n",
       "      <th>members</th>\n",
       "      <th>user_id</th>\n",
       "    </tr>\n",
       "  </thead>\n",
       "  <tbody>\n",
       "    <tr>\n",
       "      <th>7672212</th>\n",
       "      <td>29597</td>\n",
       "      <td>Hana</td>\n",
       "      <td>Comedy</td>\n",
       "      <td>Movie</td>\n",
       "      <td>1</td>\n",
       "      <td>5.0</td>\n",
       "      <td>207</td>\n",
       "      <td>12431</td>\n",
       "    </tr>\n",
       "    <tr>\n",
       "      <th>7672213</th>\n",
       "      <td>29597</td>\n",
       "      <td>Hana</td>\n",
       "      <td>Comedy</td>\n",
       "      <td>Movie</td>\n",
       "      <td>1</td>\n",
       "      <td>5.0</td>\n",
       "      <td>207</td>\n",
       "      <td>71038</td>\n",
       "    </tr>\n",
       "    <tr>\n",
       "      <th>7672222</th>\n",
       "      <td>7032</td>\n",
       "      <td>Kitte no Gensou</td>\n",
       "      <td>Comedy</td>\n",
       "      <td>Movie</td>\n",
       "      <td>1</td>\n",
       "      <td>5.0</td>\n",
       "      <td>428</td>\n",
       "      <td>7081</td>\n",
       "    </tr>\n",
       "    <tr>\n",
       "      <th>7672223</th>\n",
       "      <td>7032</td>\n",
       "      <td>Kitte no Gensou</td>\n",
       "      <td>Comedy</td>\n",
       "      <td>Movie</td>\n",
       "      <td>1</td>\n",
       "      <td>5.0</td>\n",
       "      <td>428</td>\n",
       "      <td>12431</td>\n",
       "    </tr>\n",
       "    <tr>\n",
       "      <th>7672224</th>\n",
       "      <td>7032</td>\n",
       "      <td>Kitte no Gensou</td>\n",
       "      <td>Comedy</td>\n",
       "      <td>Movie</td>\n",
       "      <td>1</td>\n",
       "      <td>5.0</td>\n",
       "      <td>428</td>\n",
       "      <td>25528</td>\n",
       "    </tr>\n",
       "    <tr>\n",
       "      <th>7672225</th>\n",
       "      <td>7032</td>\n",
       "      <td>Kitte no Gensou</td>\n",
       "      <td>Comedy</td>\n",
       "      <td>Movie</td>\n",
       "      <td>1</td>\n",
       "      <td>5.0</td>\n",
       "      <td>428</td>\n",
       "      <td>28517</td>\n",
       "    </tr>\n",
       "    <tr>\n",
       "      <th>7672226</th>\n",
       "      <td>7032</td>\n",
       "      <td>Kitte no Gensou</td>\n",
       "      <td>Comedy</td>\n",
       "      <td>Movie</td>\n",
       "      <td>1</td>\n",
       "      <td>5.0</td>\n",
       "      <td>428</td>\n",
       "      <td>29075</td>\n",
       "    </tr>\n",
       "    <tr>\n",
       "      <th>7672227</th>\n",
       "      <td>7032</td>\n",
       "      <td>Kitte no Gensou</td>\n",
       "      <td>Comedy</td>\n",
       "      <td>Movie</td>\n",
       "      <td>1</td>\n",
       "      <td>5.0</td>\n",
       "      <td>428</td>\n",
       "      <td>29868</td>\n",
       "    </tr>\n",
       "    <tr>\n",
       "      <th>7672228</th>\n",
       "      <td>7032</td>\n",
       "      <td>Kitte no Gensou</td>\n",
       "      <td>Comedy</td>\n",
       "      <td>Movie</td>\n",
       "      <td>1</td>\n",
       "      <td>5.0</td>\n",
       "      <td>428</td>\n",
       "      <td>34232</td>\n",
       "    </tr>\n",
       "    <tr>\n",
       "      <th>7672229</th>\n",
       "      <td>7032</td>\n",
       "      <td>Kitte no Gensou</td>\n",
       "      <td>Comedy</td>\n",
       "      <td>Movie</td>\n",
       "      <td>1</td>\n",
       "      <td>5.0</td>\n",
       "      <td>428</td>\n",
       "      <td>44594</td>\n",
       "    </tr>\n",
       "    <tr>\n",
       "      <th>7672230</th>\n",
       "      <td>7032</td>\n",
       "      <td>Kitte no Gensou</td>\n",
       "      <td>Comedy</td>\n",
       "      <td>Movie</td>\n",
       "      <td>1</td>\n",
       "      <td>5.0</td>\n",
       "      <td>428</td>\n",
       "      <td>44929</td>\n",
       "    </tr>\n",
       "    <tr>\n",
       "      <th>7672231</th>\n",
       "      <td>7032</td>\n",
       "      <td>Kitte no Gensou</td>\n",
       "      <td>Comedy</td>\n",
       "      <td>Movie</td>\n",
       "      <td>1</td>\n",
       "      <td>5.0</td>\n",
       "      <td>428</td>\n",
       "      <td>45475</td>\n",
       "    </tr>\n",
       "    <tr>\n",
       "      <th>7672232</th>\n",
       "      <td>7032</td>\n",
       "      <td>Kitte no Gensou</td>\n",
       "      <td>Comedy</td>\n",
       "      <td>Movie</td>\n",
       "      <td>1</td>\n",
       "      <td>5.0</td>\n",
       "      <td>428</td>\n",
       "      <td>48766</td>\n",
       "    </tr>\n",
       "    <tr>\n",
       "      <th>7672233</th>\n",
       "      <td>7032</td>\n",
       "      <td>Kitte no Gensou</td>\n",
       "      <td>Comedy</td>\n",
       "      <td>Movie</td>\n",
       "      <td>1</td>\n",
       "      <td>5.0</td>\n",
       "      <td>428</td>\n",
       "      <td>53103</td>\n",
       "    </tr>\n",
       "    <tr>\n",
       "      <th>7672234</th>\n",
       "      <td>7032</td>\n",
       "      <td>Kitte no Gensou</td>\n",
       "      <td>Comedy</td>\n",
       "      <td>Movie</td>\n",
       "      <td>1</td>\n",
       "      <td>5.0</td>\n",
       "      <td>428</td>\n",
       "      <td>65836</td>\n",
       "    </tr>\n",
       "    <tr>\n",
       "      <th>7672235</th>\n",
       "      <td>7032</td>\n",
       "      <td>Kitte no Gensou</td>\n",
       "      <td>Comedy</td>\n",
       "      <td>Movie</td>\n",
       "      <td>1</td>\n",
       "      <td>5.0</td>\n",
       "      <td>428</td>\n",
       "      <td>68293</td>\n",
       "    </tr>\n",
       "    <tr>\n",
       "      <th>7686002</th>\n",
       "      <td>25627</td>\n",
       "      <td>&amp;quot;Aesop&amp;quot; no Ohanashi yori: Ushi to Ka...</td>\n",
       "      <td>Kids</td>\n",
       "      <td>Movie</td>\n",
       "      <td>1</td>\n",
       "      <td>5.0</td>\n",
       "      <td>113</td>\n",
       "      <td>43710</td>\n",
       "    </tr>\n",
       "    <tr>\n",
       "      <th>7686003</th>\n",
       "      <td>25627</td>\n",
       "      <td>&amp;quot;Aesop&amp;quot; no Ohanashi yori: Ushi to Ka...</td>\n",
       "      <td>Kids</td>\n",
       "      <td>Movie</td>\n",
       "      <td>1</td>\n",
       "      <td>5.0</td>\n",
       "      <td>113</td>\n",
       "      <td>48766</td>\n",
       "    </tr>\n",
       "    <tr>\n",
       "      <th>7686468</th>\n",
       "      <td>13511</td>\n",
       "      <td>Cofun Gal no Coffy: Cofunderella</td>\n",
       "      <td>Comedy</td>\n",
       "      <td>Movie</td>\n",
       "      <td>1</td>\n",
       "      <td>5.0</td>\n",
       "      <td>64</td>\n",
       "      <td>48766</td>\n",
       "    </tr>\n",
       "    <tr>\n",
       "      <th>7686544</th>\n",
       "      <td>18327</td>\n",
       "      <td>Dokgotak Dasi Chajeun Maundeu</td>\n",
       "      <td>Shounen, Sports</td>\n",
       "      <td>Movie</td>\n",
       "      <td>1</td>\n",
       "      <td>5.0</td>\n",
       "      <td>70</td>\n",
       "      <td>48766</td>\n",
       "    </tr>\n",
       "    <tr>\n",
       "      <th>7687260</th>\n",
       "      <td>10238</td>\n",
       "      <td>Hybrid Deka</td>\n",
       "      <td>Comedy</td>\n",
       "      <td>Movie</td>\n",
       "      <td>1</td>\n",
       "      <td>5.0</td>\n",
       "      <td>94</td>\n",
       "      <td>9726</td>\n",
       "    </tr>\n",
       "    <tr>\n",
       "      <th>7687261</th>\n",
       "      <td>10238</td>\n",
       "      <td>Hybrid Deka</td>\n",
       "      <td>Comedy</td>\n",
       "      <td>Movie</td>\n",
       "      <td>1</td>\n",
       "      <td>5.0</td>\n",
       "      <td>94</td>\n",
       "      <td>48766</td>\n",
       "    </tr>\n",
       "    <tr>\n",
       "      <th>7687267</th>\n",
       "      <td>16007</td>\n",
       "      <td>Hyoutan Suzume</td>\n",
       "      <td>Fantasy</td>\n",
       "      <td>Movie</td>\n",
       "      <td>1</td>\n",
       "      <td>5.0</td>\n",
       "      <td>136</td>\n",
       "      <td>12431</td>\n",
       "    </tr>\n",
       "    <tr>\n",
       "      <th>7687268</th>\n",
       "      <td>16007</td>\n",
       "      <td>Hyoutan Suzume</td>\n",
       "      <td>Fantasy</td>\n",
       "      <td>Movie</td>\n",
       "      <td>1</td>\n",
       "      <td>5.0</td>\n",
       "      <td>136</td>\n",
       "      <td>48766</td>\n",
       "    </tr>\n",
       "    <tr>\n",
       "      <th>7687269</th>\n",
       "      <td>16007</td>\n",
       "      <td>Hyoutan Suzume</td>\n",
       "      <td>Fantasy</td>\n",
       "      <td>Movie</td>\n",
       "      <td>1</td>\n",
       "      <td>5.0</td>\n",
       "      <td>136</td>\n",
       "      <td>71038</td>\n",
       "    </tr>\n",
       "    <tr>\n",
       "      <th>7687451</th>\n",
       "      <td>30313</td>\n",
       "      <td>Kaiketsu Zorori Movie: Uchuu no Yuusha-tachi</td>\n",
       "      <td>Adventure, Comedy</td>\n",
       "      <td>Movie</td>\n",
       "      <td>1</td>\n",
       "      <td>5.0</td>\n",
       "      <td>102</td>\n",
       "      <td>342</td>\n",
       "    </tr>\n",
       "    <tr>\n",
       "      <th>7687547</th>\n",
       "      <td>21101</td>\n",
       "      <td>Katta-kun Monogatari</td>\n",
       "      <td>Adventure, Kids</td>\n",
       "      <td>Movie</td>\n",
       "      <td>1</td>\n",
       "      <td>5.0</td>\n",
       "      <td>70</td>\n",
       "      <td>48766</td>\n",
       "    </tr>\n",
       "    <tr>\n",
       "      <th>7688191</th>\n",
       "      <td>17100</td>\n",
       "      <td>Nae Ireumeun Dokgotak</td>\n",
       "      <td>Sports</td>\n",
       "      <td>Movie</td>\n",
       "      <td>1</td>\n",
       "      <td>5.0</td>\n",
       "      <td>66</td>\n",
       "      <td>48766</td>\n",
       "    </tr>\n",
       "    <tr>\n",
       "      <th>7688388</th>\n",
       "      <td>16480</td>\n",
       "      <td>Ojarumaru Yakusoku no Natsu Ojaru to Semira Movie</td>\n",
       "      <td>Adventure, Comedy, Fantasy</td>\n",
       "      <td>Movie</td>\n",
       "      <td>1</td>\n",
       "      <td>5.0</td>\n",
       "      <td>94</td>\n",
       "      <td>48766</td>\n",
       "    </tr>\n",
       "    <tr>\n",
       "      <th>7689138</th>\n",
       "      <td>21963</td>\n",
       "      <td>Sore Ike! Anpanman: Tsukiko to Shiratama - Tok...</td>\n",
       "      <td>Comedy, Fantasy, Kids</td>\n",
       "      <td>Movie</td>\n",
       "      <td>1</td>\n",
       "      <td>5.0</td>\n",
       "      <td>73</td>\n",
       "      <td>48766</td>\n",
       "    </tr>\n",
       "  </tbody>\n",
       "</table>\n",
       "</div>"
      ],
      "text/plain": [
       "         anime_id                                               name                       genre   type  episodes  rating  members  user_id\n",
       "7672212     29597                                               Hana                      Comedy  Movie         1     5.0      207    12431\n",
       "7672213     29597                                               Hana                      Comedy  Movie         1     5.0      207    71038\n",
       "7672222      7032                                    Kitte no Gensou                      Comedy  Movie         1     5.0      428     7081\n",
       "7672223      7032                                    Kitte no Gensou                      Comedy  Movie         1     5.0      428    12431\n",
       "7672224      7032                                    Kitte no Gensou                      Comedy  Movie         1     5.0      428    25528\n",
       "7672225      7032                                    Kitte no Gensou                      Comedy  Movie         1     5.0      428    28517\n",
       "7672226      7032                                    Kitte no Gensou                      Comedy  Movie         1     5.0      428    29075\n",
       "7672227      7032                                    Kitte no Gensou                      Comedy  Movie         1     5.0      428    29868\n",
       "7672228      7032                                    Kitte no Gensou                      Comedy  Movie         1     5.0      428    34232\n",
       "7672229      7032                                    Kitte no Gensou                      Comedy  Movie         1     5.0      428    44594\n",
       "7672230      7032                                    Kitte no Gensou                      Comedy  Movie         1     5.0      428    44929\n",
       "7672231      7032                                    Kitte no Gensou                      Comedy  Movie         1     5.0      428    45475\n",
       "7672232      7032                                    Kitte no Gensou                      Comedy  Movie         1     5.0      428    48766\n",
       "7672233      7032                                    Kitte no Gensou                      Comedy  Movie         1     5.0      428    53103\n",
       "7672234      7032                                    Kitte no Gensou                      Comedy  Movie         1     5.0      428    65836\n",
       "7672235      7032                                    Kitte no Gensou                      Comedy  Movie         1     5.0      428    68293\n",
       "7686002     25627  &quot;Aesop&quot; no Ohanashi yori: Ushi to Ka...                        Kids  Movie         1     5.0      113    43710\n",
       "7686003     25627  &quot;Aesop&quot; no Ohanashi yori: Ushi to Ka...                        Kids  Movie         1     5.0      113    48766\n",
       "7686468     13511                   Cofun Gal no Coffy: Cofunderella                      Comedy  Movie         1     5.0       64    48766\n",
       "7686544     18327                      Dokgotak Dasi Chajeun Maundeu             Shounen, Sports  Movie         1     5.0       70    48766\n",
       "7687260     10238                                        Hybrid Deka                      Comedy  Movie         1     5.0       94     9726\n",
       "7687261     10238                                        Hybrid Deka                      Comedy  Movie         1     5.0       94    48766\n",
       "7687267     16007                                     Hyoutan Suzume                     Fantasy  Movie         1     5.0      136    12431\n",
       "7687268     16007                                     Hyoutan Suzume                     Fantasy  Movie         1     5.0      136    48766\n",
       "7687269     16007                                     Hyoutan Suzume                     Fantasy  Movie         1     5.0      136    71038\n",
       "7687451     30313       Kaiketsu Zorori Movie: Uchuu no Yuusha-tachi           Adventure, Comedy  Movie         1     5.0      102      342\n",
       "7687547     21101                               Katta-kun Monogatari             Adventure, Kids  Movie         1     5.0       70    48766\n",
       "7688191     17100                              Nae Ireumeun Dokgotak                      Sports  Movie         1     5.0       66    48766\n",
       "7688388     16480  Ojarumaru Yakusoku no Natsu Ojaru to Semira Movie  Adventure, Comedy, Fantasy  Movie         1     5.0       94    48766\n",
       "7689138     21963  Sore Ike! Anpanman: Tsukiko to Shiratama - Tok...       Comedy, Fantasy, Kids  Movie         1     5.0       73    48766"
      ]
     },
     "execution_count": 28,
     "metadata": {},
     "output_type": "execute_result"
    }
   ],
   "source": [
    "mv_df = merged_df[(merged_df['type'] == 'Movie') & (merged_df['rating'] == 5.0)]\n",
    "mv_df"
   ]
  },
  {
   "cell_type": "markdown",
   "id": "6de331f3-5226-4682-aec6-17599505d7aa",
   "metadata": {},
   "source": [
    "# Feature Engineering"
   ]
  },
  {
   "cell_type": "code",
   "execution_count": 125,
   "id": "70953c06-9a20-4957-8dc4-5859eb7c6293",
   "metadata": {},
   "outputs": [
    {
     "data": {
      "text/html": [
       "<div>\n",
       "<style scoped>\n",
       "    .dataframe tbody tr th:only-of-type {\n",
       "        vertical-align: middle;\n",
       "    }\n",
       "\n",
       "    .dataframe tbody tr th {\n",
       "        vertical-align: top;\n",
       "    }\n",
       "\n",
       "    .dataframe thead th {\n",
       "        text-align: right;\n",
       "    }\n",
       "</style>\n",
       "<table border=\"1\" class=\"dataframe\">\n",
       "  <thead>\n",
       "    <tr style=\"text-align: right;\">\n",
       "      <th></th>\n",
       "      <th>anime_id</th>\n",
       "      <th>name</th>\n",
       "      <th>genre</th>\n",
       "      <th>type</th>\n",
       "      <th>episodes</th>\n",
       "      <th>rating</th>\n",
       "      <th>members</th>\n",
       "      <th>user_id</th>\n",
       "    </tr>\n",
       "  </thead>\n",
       "  <tbody>\n",
       "    <tr>\n",
       "      <th>0</th>\n",
       "      <td>32281</td>\n",
       "      <td>Kimi no Na wa.</td>\n",
       "      <td>Drama, Romance, School, Supernatural</td>\n",
       "      <td>0</td>\n",
       "      <td>1</td>\n",
       "      <td>5.0</td>\n",
       "      <td>200630</td>\n",
       "      <td>99</td>\n",
       "    </tr>\n",
       "    <tr>\n",
       "      <th>1</th>\n",
       "      <td>32281</td>\n",
       "      <td>Kimi no Na wa.</td>\n",
       "      <td>Drama, Romance, School, Supernatural</td>\n",
       "      <td>0</td>\n",
       "      <td>1</td>\n",
       "      <td>5.0</td>\n",
       "      <td>200630</td>\n",
       "      <td>152</td>\n",
       "    </tr>\n",
       "    <tr>\n",
       "      <th>2</th>\n",
       "      <td>32281</td>\n",
       "      <td>Kimi no Na wa.</td>\n",
       "      <td>Drama, Romance, School, Supernatural</td>\n",
       "      <td>0</td>\n",
       "      <td>1</td>\n",
       "      <td>5.0</td>\n",
       "      <td>200630</td>\n",
       "      <td>244</td>\n",
       "    </tr>\n",
       "    <tr>\n",
       "      <th>3</th>\n",
       "      <td>32281</td>\n",
       "      <td>Kimi no Na wa.</td>\n",
       "      <td>Drama, Romance, School, Supernatural</td>\n",
       "      <td>0</td>\n",
       "      <td>1</td>\n",
       "      <td>5.0</td>\n",
       "      <td>200630</td>\n",
       "      <td>271</td>\n",
       "    </tr>\n",
       "    <tr>\n",
       "      <th>4</th>\n",
       "      <td>32281</td>\n",
       "      <td>Kimi no Na wa.</td>\n",
       "      <td>Drama, Romance, School, Supernatural</td>\n",
       "      <td>0</td>\n",
       "      <td>1</td>\n",
       "      <td>5.0</td>\n",
       "      <td>200630</td>\n",
       "      <td>278</td>\n",
       "    </tr>\n",
       "    <tr>\n",
       "      <th>...</th>\n",
       "      <td>...</td>\n",
       "      <td>...</td>\n",
       "      <td>...</td>\n",
       "      <td>...</td>\n",
       "      <td>...</td>\n",
       "      <td>...</td>\n",
       "      <td>...</td>\n",
       "      <td>...</td>\n",
       "    </tr>\n",
       "    <tr>\n",
       "      <th>7813722</th>\n",
       "      <td>6133</td>\n",
       "      <td>Violence Gekiga Shin David no Hoshi: Inma Dens...</td>\n",
       "      <td>Hentai</td>\n",
       "      <td>3</td>\n",
       "      <td>1</td>\n",
       "      <td>2.0</td>\n",
       "      <td>175</td>\n",
       "      <td>39532</td>\n",
       "    </tr>\n",
       "    <tr>\n",
       "      <th>7813723</th>\n",
       "      <td>6133</td>\n",
       "      <td>Violence Gekiga Shin David no Hoshi: Inma Dens...</td>\n",
       "      <td>Hentai</td>\n",
       "      <td>3</td>\n",
       "      <td>1</td>\n",
       "      <td>2.0</td>\n",
       "      <td>175</td>\n",
       "      <td>48766</td>\n",
       "    </tr>\n",
       "    <tr>\n",
       "      <th>7813724</th>\n",
       "      <td>6133</td>\n",
       "      <td>Violence Gekiga Shin David no Hoshi: Inma Dens...</td>\n",
       "      <td>Hentai</td>\n",
       "      <td>3</td>\n",
       "      <td>1</td>\n",
       "      <td>2.0</td>\n",
       "      <td>175</td>\n",
       "      <td>60365</td>\n",
       "    </tr>\n",
       "    <tr>\n",
       "      <th>7813725</th>\n",
       "      <td>26081</td>\n",
       "      <td>Yasuji no Pornorama: Yacchimae!!</td>\n",
       "      <td>Hentai</td>\n",
       "      <td>0</td>\n",
       "      <td>1</td>\n",
       "      <td>3.0</td>\n",
       "      <td>142</td>\n",
       "      <td>27364</td>\n",
       "    </tr>\n",
       "    <tr>\n",
       "      <th>7813726</th>\n",
       "      <td>26081</td>\n",
       "      <td>Yasuji no Pornorama: Yacchimae!!</td>\n",
       "      <td>Hentai</td>\n",
       "      <td>0</td>\n",
       "      <td>1</td>\n",
       "      <td>3.0</td>\n",
       "      <td>142</td>\n",
       "      <td>48766</td>\n",
       "    </tr>\n",
       "  </tbody>\n",
       "</table>\n",
       "<p>7813610 rows × 8 columns</p>\n",
       "</div>"
      ],
      "text/plain": [
       "         anime_id                                               name                                 genre  type  episodes  rating  members  user_id\n",
       "0           32281                                     Kimi no Na wa.  Drama, Romance, School, Supernatural     0         1     5.0   200630       99\n",
       "1           32281                                     Kimi no Na wa.  Drama, Romance, School, Supernatural     0         1     5.0   200630      152\n",
       "2           32281                                     Kimi no Na wa.  Drama, Romance, School, Supernatural     0         1     5.0   200630      244\n",
       "3           32281                                     Kimi no Na wa.  Drama, Romance, School, Supernatural     0         1     5.0   200630      271\n",
       "4           32281                                     Kimi no Na wa.  Drama, Romance, School, Supernatural     0         1     5.0   200630      278\n",
       "...           ...                                                ...                                   ...   ...       ...     ...      ...      ...\n",
       "7813722      6133  Violence Gekiga Shin David no Hoshi: Inma Dens...                                Hentai     3         1     2.0      175    39532\n",
       "7813723      6133  Violence Gekiga Shin David no Hoshi: Inma Dens...                                Hentai     3         1     2.0      175    48766\n",
       "7813724      6133  Violence Gekiga Shin David no Hoshi: Inma Dens...                                Hentai     3         1     2.0      175    60365\n",
       "7813725     26081                   Yasuji no Pornorama: Yacchimae!!                                Hentai     0         1     3.0      142    27364\n",
       "7813726     26081                   Yasuji no Pornorama: Yacchimae!!                                Hentai     0         1     3.0      142    48766\n",
       "\n",
       "[7813610 rows x 8 columns]"
      ]
     },
     "metadata": {},
     "output_type": "display_data"
    }
   ],
   "source": [
    "# Initialize the label encoder to the label encoder variable\n",
    "label_encoder = LabelEncoder()\n",
    "# transform the type column into numerical one\n",
    "merged_df['type'] = label_encoder.fit_transform(merged_df.type)\n",
    "# Display the dataframe\n",
    "display(merged_df)"
   ]
  },
  {
   "cell_type": "markdown",
   "id": "05615664-50bc-40ab-89c7-1541246968eb",
   "metadata": {
    "editable": true,
    "slideshow": {
     "slide_type": ""
    },
    "tags": []
   },
   "source": [
    "# Feature Selection"
   ]
  },
  {
   "cell_type": "code",
   "execution_count": 126,
   "id": "ff706f5d-b196-465b-a957-9a811cc0cb4d",
   "metadata": {},
   "outputs": [
    {
     "data": {
      "text/plain": [
       "<Axes: title={'center': 'Correlation Heatmap'}>"
      ]
     },
     "execution_count": 126,
     "metadata": {},
     "output_type": "execute_result"
    },
    {
     "data": {
      "image/png": "[encoded data removed]",
      "text/plain": [
       "<Figure size 1000x600 with 2 Axes>"
      ]
     },
     "metadata": {},
     "output_type": "display_data"
    }
   ],
   "source": [
    "# create a heatmap of correlation\n",
    "correlation_matrix = merged_df[[\"type\",\"rating\",\"members\",\"episodes\"]].corr()\n",
    "plt.figure(figsize=(10,6))\n",
    "plt.title(\"Correlation Heatmap\")\n",
    "sns.heatmap(correlation_matrix,annot=True,cmap=\"coolwarm\")"
   ]
  },
  {
   "cell_type": "markdown",
   "id": "de2a1be7-59da-4a5a-84cd-1be86d3c0973",
   "metadata": {},
   "source": [
    "## Step 1: Feature Selection"
   ]
  },
  {
   "cell_type": "code",
   "execution_count": 127,
   "id": "c4d17836-4a53-4c49-bd80-bdba2df7d848",
   "metadata": {},
   "outputs": [],
   "source": [
    "numerical_features = [\"type\",\"rating\",\"members\",\"episodes\"]"
   ]
  },
  {
   "cell_type": "markdown",
   "id": "85bea771-1ab8-4c92-afe7-e7c4c57f6d65",
   "metadata": {},
   "source": [
    "It seems there is no reasonable correlation among these features but we are going to use them."
   ]
  },
  {
   "cell_type": "markdown",
   "id": "9c9077a8-bcec-4100-8b56-c21a13aa822e",
   "metadata": {},
   "source": [
    "## Step 2: Data Preprocessing "
   ]
  },
  {
   "cell_type": "code",
   "execution_count": 128,
   "id": "8dbdf654-e09e-4d31-88eb-c07fc3ee1bfc",
   "metadata": {},
   "outputs": [
    {
     "data": {
      "text/html": [
       "<div>\n",
       "<style scoped>\n",
       "    .dataframe tbody tr th:only-of-type {\n",
       "        vertical-align: middle;\n",
       "    }\n",
       "\n",
       "    .dataframe tbody tr th {\n",
       "        vertical-align: top;\n",
       "    }\n",
       "\n",
       "    .dataframe thead th {\n",
       "        text-align: right;\n",
       "    }\n",
       "</style>\n",
       "<table border=\"1\" class=\"dataframe\">\n",
       "  <thead>\n",
       "    <tr style=\"text-align: right;\">\n",
       "      <th></th>\n",
       "      <th>type</th>\n",
       "      <th>rating</th>\n",
       "      <th>members</th>\n",
       "      <th>episodes</th>\n",
       "    </tr>\n",
       "  </thead>\n",
       "  <tbody>\n",
       "    <tr>\n",
       "      <th>0</th>\n",
       "      <td>-2.306378</td>\n",
       "      <td>2.969042</td>\n",
       "      <td>0.116947</td>\n",
       "      <td>-0.497119</td>\n",
       "    </tr>\n",
       "    <tr>\n",
       "      <th>1</th>\n",
       "      <td>-2.306378</td>\n",
       "      <td>2.969042</td>\n",
       "      <td>0.116947</td>\n",
       "      <td>-0.497119</td>\n",
       "    </tr>\n",
       "    <tr>\n",
       "      <th>2</th>\n",
       "      <td>-2.306378</td>\n",
       "      <td>2.969042</td>\n",
       "      <td>0.116947</td>\n",
       "      <td>-0.497119</td>\n",
       "    </tr>\n",
       "    <tr>\n",
       "      <th>3</th>\n",
       "      <td>-2.306378</td>\n",
       "      <td>2.969042</td>\n",
       "      <td>0.116947</td>\n",
       "      <td>-0.497119</td>\n",
       "    </tr>\n",
       "    <tr>\n",
       "      <th>4</th>\n",
       "      <td>-2.306378</td>\n",
       "      <td>2.969042</td>\n",
       "      <td>0.116947</td>\n",
       "      <td>-0.497119</td>\n",
       "    </tr>\n",
       "    <tr>\n",
       "      <th>...</th>\n",
       "      <td>...</td>\n",
       "      <td>...</td>\n",
       "      <td>...</td>\n",
       "      <td>...</td>\n",
       "    </tr>\n",
       "    <tr>\n",
       "      <th>7813722</th>\n",
       "      <td>-0.577272</td>\n",
       "      <td>-4.854904</td>\n",
       "      <td>-0.948303</td>\n",
       "      <td>-0.497119</td>\n",
       "    </tr>\n",
       "    <tr>\n",
       "      <th>7813723</th>\n",
       "      <td>-0.577272</td>\n",
       "      <td>-4.854904</td>\n",
       "      <td>-0.948303</td>\n",
       "      <td>-0.497119</td>\n",
       "    </tr>\n",
       "    <tr>\n",
       "      <th>7813724</th>\n",
       "      <td>-0.577272</td>\n",
       "      <td>-4.854904</td>\n",
       "      <td>-0.948303</td>\n",
       "      <td>-0.497119</td>\n",
       "    </tr>\n",
       "    <tr>\n",
       "      <th>7813725</th>\n",
       "      <td>-2.306378</td>\n",
       "      <td>-2.246922</td>\n",
       "      <td>-0.948479</td>\n",
       "      <td>-0.497119</td>\n",
       "    </tr>\n",
       "    <tr>\n",
       "      <th>7813726</th>\n",
       "      <td>-2.306378</td>\n",
       "      <td>-2.246922</td>\n",
       "      <td>-0.948479</td>\n",
       "      <td>-0.497119</td>\n",
       "    </tr>\n",
       "  </tbody>\n",
       "</table>\n",
       "<p>7813610 rows × 4 columns</p>\n",
       "</div>"
      ],
      "text/plain": [
       "             type    rating   members  episodes\n",
       "0       -2.306378  2.969042  0.116947 -0.497119\n",
       "1       -2.306378  2.969042  0.116947 -0.497119\n",
       "2       -2.306378  2.969042  0.116947 -0.497119\n",
       "3       -2.306378  2.969042  0.116947 -0.497119\n",
       "4       -2.306378  2.969042  0.116947 -0.497119\n",
       "...           ...       ...       ...       ...\n",
       "7813722 -0.577272 -4.854904 -0.948303 -0.497119\n",
       "7813723 -0.577272 -4.854904 -0.948303 -0.497119\n",
       "7813724 -0.577272 -4.854904 -0.948303 -0.497119\n",
       "7813725 -2.306378 -2.246922 -0.948479 -0.497119\n",
       "7813726 -2.306378 -2.246922 -0.948479 -0.497119\n",
       "\n",
       "[7813610 rows x 4 columns]"
      ]
     },
     "metadata": {},
     "output_type": "display_data"
    }
   ],
   "source": [
    "# Initialize the scaler \n",
    "scaler = StandardScaler()\n",
    "# Normalize features\n",
    "merged_df[numerical_features] = scaler.fit_transform(merged_df[numerical_features])\n",
    "# Display scaled features\n",
    "display(merged_df[numerical_features])"
   ]
  },
  {
   "cell_type": "markdown",
   "id": "81efdb5e-1e34-445b-9e2c-7ff84669cf27",
   "metadata": {},
   "source": [
    "## Step 3: Choose the number of clusters"
   ]
  },
  {
   "cell_type": "code",
   "execution_count": 129,
   "id": "69a09a16-b55f-45da-bbd7-4abedd9969f9",
   "metadata": {},
   "outputs": [
    {
     "name": "stdout",
     "output_type": "stream",
     "text": [
      "within cluster sum of squares [31254439.999967486]\n",
      "within cluster sum of squares [31254439.999967486, 23363536.416093193]\n",
      "within cluster sum of squares [31254439.999967486, 23363536.416093193, 16375256.781011986]\n",
      "within cluster sum of squares [31254439.999967486, 23363536.416093193, 16375256.781011986, 11440073.018615907]\n",
      "within cluster sum of squares [31254439.999967486, 23363536.416093193, 16375256.781011986, 11440073.018615907, 7127978.823162623]\n",
      "within cluster sum of squares [31254439.999967486, 23363536.416093193, 16375256.781011986, 11440073.018615907, 7127978.823162623, 6060446.318298196]\n",
      "within cluster sum of squares [31254439.999967486, 23363536.416093193, 16375256.781011986, 11440073.018615907, 7127978.823162623, 6060446.318298196, 5337230.641170323]\n",
      "within cluster sum of squares [31254439.999967486, 23363536.416093193, 16375256.781011986, 11440073.018615907, 7127978.823162623, 6060446.318298196, 5337230.641170323, 4645631.347071567]\n",
      "within cluster sum of squares [31254439.999967486, 23363536.416093193, 16375256.781011986, 11440073.018615907, 7127978.823162623, 6060446.318298196, 5337230.641170323, 4645631.347071567, 3923358.910119217]\n",
      "within cluster sum of squares [31254439.999967486, 23363536.416093193, 16375256.781011986, 11440073.018615907, 7127978.823162623, 6060446.318298196, 5337230.641170323, 4645631.347071567, 3923358.910119217, 3405693.671300872]\n"
     ]
    }
   ],
   "source": [
    "# Calculate the within-cluster sum of squares (wcss) for different k values\n",
    "wcss = []\n",
    "for k in range(1,11):\n",
    "    kmeans = KMeans(n_clusters=k, random_state=42)\n",
    "    kmeans.fit(merged_df[numerical_features])\n",
    "    wcss.append(kmeans.inertia_)\n",
    "    print(\"within cluster sum of squares\",wcss)"
   ]
  },
  {
   "cell_type": "markdown",
   "id": "10988f74-9eb7-4189-b2de-2e7086ab422d",
   "metadata": {},
   "source": [
    "## Step 4: Find the Optimal k visually"
   ]
  },
  {
   "cell_type": "code",
   "execution_count": 130,
   "id": "577b17a0-b6d0-4ece-acf7-ec0a37cbc07b",
   "metadata": {},
   "outputs": [
    {
     "data": {
      "image/png": "[encoded data removed]",
      "text/plain": [
       "<Figure size 640x480 with 1 Axes>"
      ]
     },
     "metadata": {},
     "output_type": "display_data"
    }
   ],
   "source": [
    "# Plot the Elbow method graph\n",
    "plt.plot(range(1,11), wcss)\n",
    "plt.xlabel(\"Number of Clusters (K)\")\n",
    "plt.ylabel(\"WCSS\")\n",
    "plt.title(\"Elbow Method\")\n",
    "plt.show()"
   ]
  },
  {
   "cell_type": "markdown",
   "id": "9f867539-9e25-4d3d-a5ba-d3a2cfa550a2",
   "metadata": {},
   "source": [
    "## Step 5: Choose the Optimal k"
   ]
  },
  {
   "cell_type": "code",
   "execution_count": 30,
   "id": "dfc6334b-f824-4438-920e-37bef58c55d9",
   "metadata": {},
   "outputs": [
    {
     "data": {
      "text/plain": [
       "array([0, 4, 1, 2, 3])"
      ]
     },
     "execution_count": 30,
     "metadata": {},
     "output_type": "execute_result"
    }
   ],
   "source": [
    "# Initialize and fit the KMeans model with the chosen k \n",
    "optimal_k = 5 \n",
    "kmeans = KMeans(n_clusters=optimal_k,init=\"k-means++\",random_state=42)\n",
    "merged_df[\"cluster\"] = kmeans.fit_predict(merged_df[numerical_features])\n",
    "merged_df['cluster'].unique()"
   ]
  },
  {
   "cell_type": "code",
   "execution_count": 132,
   "id": "b7b98717-f2a0-4d27-afff-27c96b075a82",
   "metadata": {},
   "outputs": [
    {
     "data": {
      "text/html": [
       "<div>\n",
       "<style scoped>\n",
       "    .dataframe tbody tr th:only-of-type {\n",
       "        vertical-align: middle;\n",
       "    }\n",
       "\n",
       "    .dataframe tbody tr th {\n",
       "        vertical-align: top;\n",
       "    }\n",
       "\n",
       "    .dataframe thead th {\n",
       "        text-align: right;\n",
       "    }\n",
       "</style>\n",
       "<table border=\"1\" class=\"dataframe\">\n",
       "  <thead>\n",
       "    <tr style=\"text-align: right;\">\n",
       "      <th></th>\n",
       "      <th>anime_id</th>\n",
       "      <th>name</th>\n",
       "      <th>genre</th>\n",
       "      <th>type</th>\n",
       "      <th>episodes</th>\n",
       "      <th>rating</th>\n",
       "      <th>members</th>\n",
       "      <th>user_id</th>\n",
       "      <th>cluster</th>\n",
       "    </tr>\n",
       "  </thead>\n",
       "  <tbody>\n",
       "    <tr>\n",
       "      <th>0</th>\n",
       "      <td>32281</td>\n",
       "      <td>Kimi no Na wa.</td>\n",
       "      <td>Drama, Romance, School, Supernatural</td>\n",
       "      <td>-2.306378</td>\n",
       "      <td>-0.497119</td>\n",
       "      <td>2.969042</td>\n",
       "      <td>0.116947</td>\n",
       "      <td>99</td>\n",
       "      <td>2</td>\n",
       "    </tr>\n",
       "    <tr>\n",
       "      <th>1</th>\n",
       "      <td>32281</td>\n",
       "      <td>Kimi no Na wa.</td>\n",
       "      <td>Drama, Romance, School, Supernatural</td>\n",
       "      <td>-2.306378</td>\n",
       "      <td>-0.497119</td>\n",
       "      <td>2.969042</td>\n",
       "      <td>0.116947</td>\n",
       "      <td>152</td>\n",
       "      <td>2</td>\n",
       "    </tr>\n",
       "    <tr>\n",
       "      <th>2</th>\n",
       "      <td>32281</td>\n",
       "      <td>Kimi no Na wa.</td>\n",
       "      <td>Drama, Romance, School, Supernatural</td>\n",
       "      <td>-2.306378</td>\n",
       "      <td>-0.497119</td>\n",
       "      <td>2.969042</td>\n",
       "      <td>0.116947</td>\n",
       "      <td>244</td>\n",
       "      <td>2</td>\n",
       "    </tr>\n",
       "    <tr>\n",
       "      <th>3</th>\n",
       "      <td>32281</td>\n",
       "      <td>Kimi no Na wa.</td>\n",
       "      <td>Drama, Romance, School, Supernatural</td>\n",
       "      <td>-2.306378</td>\n",
       "      <td>-0.497119</td>\n",
       "      <td>2.969042</td>\n",
       "      <td>0.116947</td>\n",
       "      <td>271</td>\n",
       "      <td>2</td>\n",
       "    </tr>\n",
       "    <tr>\n",
       "      <th>4</th>\n",
       "      <td>32281</td>\n",
       "      <td>Kimi no Na wa.</td>\n",
       "      <td>Drama, Romance, School, Supernatural</td>\n",
       "      <td>-2.306378</td>\n",
       "      <td>-0.497119</td>\n",
       "      <td>2.969042</td>\n",
       "      <td>0.116947</td>\n",
       "      <td>278</td>\n",
       "      <td>2</td>\n",
       "    </tr>\n",
       "    <tr>\n",
       "      <th>...</th>\n",
       "      <td>...</td>\n",
       "      <td>...</td>\n",
       "      <td>...</td>\n",
       "      <td>...</td>\n",
       "      <td>...</td>\n",
       "      <td>...</td>\n",
       "      <td>...</td>\n",
       "      <td>...</td>\n",
       "      <td>...</td>\n",
       "    </tr>\n",
       "    <tr>\n",
       "      <th>7813722</th>\n",
       "      <td>6133</td>\n",
       "      <td>Violence Gekiga Shin David no Hoshi: Inma Dens...</td>\n",
       "      <td>Hentai</td>\n",
       "      <td>-0.577272</td>\n",
       "      <td>-0.497119</td>\n",
       "      <td>-4.854904</td>\n",
       "      <td>-0.948303</td>\n",
       "      <td>39532</td>\n",
       "      <td>1</td>\n",
       "    </tr>\n",
       "    <tr>\n",
       "      <th>7813723</th>\n",
       "      <td>6133</td>\n",
       "      <td>Violence Gekiga Shin David no Hoshi: Inma Dens...</td>\n",
       "      <td>Hentai</td>\n",
       "      <td>-0.577272</td>\n",
       "      <td>-0.497119</td>\n",
       "      <td>-4.854904</td>\n",
       "      <td>-0.948303</td>\n",
       "      <td>48766</td>\n",
       "      <td>1</td>\n",
       "    </tr>\n",
       "    <tr>\n",
       "      <th>7813724</th>\n",
       "      <td>6133</td>\n",
       "      <td>Violence Gekiga Shin David no Hoshi: Inma Dens...</td>\n",
       "      <td>Hentai</td>\n",
       "      <td>-0.577272</td>\n",
       "      <td>-0.497119</td>\n",
       "      <td>-4.854904</td>\n",
       "      <td>-0.948303</td>\n",
       "      <td>60365</td>\n",
       "      <td>1</td>\n",
       "    </tr>\n",
       "    <tr>\n",
       "      <th>7813725</th>\n",
       "      <td>26081</td>\n",
       "      <td>Yasuji no Pornorama: Yacchimae!!</td>\n",
       "      <td>Hentai</td>\n",
       "      <td>-2.306378</td>\n",
       "      <td>-0.497119</td>\n",
       "      <td>-2.246922</td>\n",
       "      <td>-0.948479</td>\n",
       "      <td>27364</td>\n",
       "      <td>1</td>\n",
       "    </tr>\n",
       "    <tr>\n",
       "      <th>7813726</th>\n",
       "      <td>26081</td>\n",
       "      <td>Yasuji no Pornorama: Yacchimae!!</td>\n",
       "      <td>Hentai</td>\n",
       "      <td>-2.306378</td>\n",
       "      <td>-0.497119</td>\n",
       "      <td>-2.246922</td>\n",
       "      <td>-0.948479</td>\n",
       "      <td>48766</td>\n",
       "      <td>1</td>\n",
       "    </tr>\n",
       "  </tbody>\n",
       "</table>\n",
       "<p>7813610 rows × 9 columns</p>\n",
       "</div>"
      ],
      "text/plain": [
       "         anime_id                                               name                                 genre      type  episodes    rating   members  user_id  cluster\n",
       "0           32281                                     Kimi no Na wa.  Drama, Romance, School, Supernatural -2.306378 -0.497119  2.969042  0.116947       99        2\n",
       "1           32281                                     Kimi no Na wa.  Drama, Romance, School, Supernatural -2.306378 -0.497119  2.969042  0.116947      152        2\n",
       "2           32281                                     Kimi no Na wa.  Drama, Romance, School, Supernatural -2.306378 -0.497119  2.969042  0.116947      244        2\n",
       "3           32281                                     Kimi no Na wa.  Drama, Romance, School, Supernatural -2.306378 -0.497119  2.969042  0.116947      271        2\n",
       "4           32281                                     Kimi no Na wa.  Drama, Romance, School, Supernatural -2.306378 -0.497119  2.969042  0.116947      278        2\n",
       "...           ...                                                ...                                   ...       ...       ...       ...       ...      ...      ...\n",
       "7813722      6133  Violence Gekiga Shin David no Hoshi: Inma Dens...                                Hentai -0.577272 -0.497119 -4.854904 -0.948303    39532        1\n",
       "7813723      6133  Violence Gekiga Shin David no Hoshi: Inma Dens...                                Hentai -0.577272 -0.497119 -4.854904 -0.948303    48766        1\n",
       "7813724      6133  Violence Gekiga Shin David no Hoshi: Inma Dens...                                Hentai -0.577272 -0.497119 -4.854904 -0.948303    60365        1\n",
       "7813725     26081                   Yasuji no Pornorama: Yacchimae!!                                Hentai -2.306378 -0.497119 -2.246922 -0.948479    27364        1\n",
       "7813726     26081                   Yasuji no Pornorama: Yacchimae!!                                Hentai -2.306378 -0.497119 -2.246922 -0.948479    48766        1\n",
       "\n",
       "[7813610 rows x 9 columns]"
      ]
     },
     "metadata": {},
     "output_type": "display_data"
    }
   ],
   "source": [
    "# Display the dataframe\n",
    "display(merged_df)"
   ]
  },
  {
   "cell_type": "markdown",
   "id": "87fdbd68-c017-4f1f-8c06-8ed55856ec15",
   "metadata": {},
   "source": [
    "### merged_df['cluster'] (i.e y_kmeans) gives us different clusters corresponding to numerical_features . Now, let’s plot all the clusters using matplotlibb"
   ]
  },
  {
   "cell_type": "code",
   "execution_count": 133,
   "id": "16d45ebb-604f-4f45-8a99-f398d9b9c764",
   "metadata": {},
   "outputs": [
    {
     "data": {
      "image/png": "[encoded data removed]",
      "text/plain": [
       "<Figure size 1000x800 with 1 Axes>"
      ]
     },
     "metadata": {},
     "output_type": "display_data"
    }
   ],
   "source": [
    "# Define the numerical features \n",
    "numerical_features = ['members','rating']\n",
    "\n",
    "# Create a colormap with a unique color for each cluster\n",
    "num_clusters = len(merged_df['cluster'].unique())\n",
    "colors = plt.cm.rainbow(np.linspace(0,1, num_clusters))\n",
    "\n",
    "# plot scatter plot for all clusters\n",
    "plt.figure(figsize=(10,8))\n",
    "for i, cluster_label in enumerate(merged_df['cluster'].unique()):\n",
    "    cluster_data = merged_df[merged_df['cluster']==cluster_label]\n",
    "    plt.scatter(cluster_data[numerical_features[0]],cluster_data[numerical_features[1]],label=f'Cluster {cluster_label}',color=colors[i])\n",
    "\n",
    "plt.xlabel(numerical_features[0])\n",
    "plt.ylabel(numerical_features[1])\n",
    "plt.title(\"Clusters Visualization\")\n",
    "plt.legend()\n",
    "plt.show()"
   ]
  },
  {
   "cell_type": "markdown",
   "id": "bf5e3773-ecbf-4128-8bd7-d2bec2acd40f",
   "metadata": {},
   "source": [
    "## Step 6: Evaluate the clustering using different metrics"
   ]
  },
  {
   "cell_type": "code",
   "execution_count": 134,
   "id": "52b8d9aa-7aed-4fc8-8437-865a80b6cf65",
   "metadata": {},
   "outputs": [
    {
     "name": "stdout",
     "output_type": "stream",
     "text": [
      "Silhouette Score: 0.17227862669307728\n"
     ]
    }
   ],
   "source": [
    "# Evaluate the clustering using silhouette score\n",
    "sample_size = 30000\n",
    "sample_data = merged_df[numerical_features].sample(n=sample_size,random_state=42)\n",
    "sample_labels = merged_df[\"cluster\"].sample(n=sample_size, random_state=42)\n",
    "silhouette_avg_sample = silhouette_score(sample_data,sample_labels)\n",
    "print(\"Silhouette Score:\",silhouette_avg_sample)"
   ]
  },
  {
   "cell_type": "code",
   "execution_count": 135,
   "id": "c3b75b7c-b78e-4f65-99f1-a42c51db83af",
   "metadata": {},
   "outputs": [
    {
     "name": "stdout",
     "output_type": "stream",
     "text": [
      "calinski harabasz scores 28775.648205473353\n"
     ]
    }
   ],
   "source": [
    "# Evaluate the clustering using calinski_harabasz score \n",
    "calinski_harabasz = calinski_harabasz_score(sample_data,sample_labels)\n",
    "print(\"calinski harabasz scores\",calinski_harabasz)"
   ]
  },
  {
   "cell_type": "code",
   "execution_count": 136,
   "id": "ea688893-112d-490c-9f42-e2509c50d26c",
   "metadata": {},
   "outputs": [
    {
     "name": "stdout",
     "output_type": "stream",
     "text": [
      "davies_bouldin_score 4.576231853294196\n"
     ]
    }
   ],
   "source": [
    "# Evaluate clustering using the davies bouldin score\n",
    "davies_bouldin_score = davies_bouldin_score(sample_data,sample_labels)\n",
    "print(\"davies_bouldin_score\",davies_bouldin_score)"
   ]
  },
  {
   "cell_type": "markdown",
   "id": "122fd06b-17f9-4b48-92af-12e2f8fbae36",
   "metadata": {},
   "source": [
    "##  Plot Calinski-Harabasz Index values"
   ]
  },
  {
   "cell_type": "code",
   "execution_count": 137,
   "id": "251a5d44-6159-4cb7-8d01-b84ebe616a9d",
   "metadata": {},
   "outputs": [
    {
     "data": {
      "image/png": "[encoded data removed]",
      "text/plain": [
       "<Figure size 640x480 with 1 Axes>"
      ]
     },
     "metadata": {},
     "output_type": "display_data"
    }
   ],
   "source": [
    "calinski_harabasz_scores = []\n",
    "for k in range(2, 11):\n",
    "    kmeans = KMeans(n_clusters=5, random_state=42)\n",
    "    cluster_labels = kmeans.fit_predict(merged_df[numerical_features])\n",
    "    calinski_harabasz = calinski_harabasz_score(merged_df[numerical_features], cluster_labels)\n",
    "    calinski_harabasz_scores.append(calinski_harabasz)\n",
    "\n",
    "# Plot Calinski-Harabasz Index values\n",
    "plt.plot(range(2, 11), calinski_harabasz_scores)\n",
    "plt.xlabel(\"Number of Clusters (k)\")\n",
    "plt.ylabel(\"Calinski-Harabasz Index\")\n",
    "plt.title(\"Calinski-Harabasz Index Plot\")\n",
    "plt.show()"
   ]
  },
  {
   "cell_type": "markdown",
   "id": "b20dea11-6373-4a7e-880c-6b23982f8daa",
   "metadata": {},
   "source": [
    "## Plot Davies-Bouldin Index values"
   ]
  },
  {
   "cell_type": "code",
   "execution_count": 26,
   "id": "adcd9f04-7688-40c2-a670-7c15e24bfef9",
   "metadata": {},
   "outputs": [
    {
     "data": {
      "image/png": "[encoded data removed]",
      "text/plain": [
       "<Figure size 640x480 with 1 Axes>"
      ]
     },
     "metadata": {},
     "output_type": "display_data"
    }
   ],
   "source": [
    "# Define the numerical features \n",
    "numerical_features = ['members','rating']\n",
    "davies_bouldin_scores = []\n",
    "for k in range(2, 11):\n",
    "    kmeans = KMeans(n_clusters=k, random_state=42)\n",
    "    cluster_labels = kmeans.fit_predict(merged_df[numerical_features])\n",
    "    davies_bouldin = davies_bouldin_score(merged_df[numerical_features], cluster_labels)\n",
    "    davies_bouldin_scores.append(davies_bouldin)\n",
    "\n",
    "# Plot Davies-Bouldin Index values\n",
    "plt.plot(range(2, 11), davies_bouldin_scores)\n",
    "plt.xlabel(\"Number of Clusters (k)\")\n",
    "plt.ylabel(\"Davies-Bouldin Index\")\n",
    "plt.title(\"Davies-Bouldin Index Plot\")\n",
    "plt.show()"
   ]
  },
  {
   "cell_type": "markdown",
   "id": "4e490085-322b-4ca0-bd00-4fffc6345a7f",
   "metadata": {},
   "source": [
    "##  Plot inertia values"
   ]
  },
  {
   "cell_type": "code",
   "execution_count": 139,
   "id": "389f69cf-2e0b-4d55-a812-0fea4cbdc22f",
   "metadata": {},
   "outputs": [
    {
     "data": {
      "image/png": "[encoded data removed]",
      "text/plain": [
       "<Figure size 640x480 with 1 Axes>"
      ]
     },
     "metadata": {},
     "output_type": "display_data"
    }
   ],
   "source": [
    "# Calculate inertia for different k values\n",
    "inertia_values = []\n",
    "for k in range(1, 11):\n",
    "    kmeans = KMeans(n_clusters=k, random_state=42)\n",
    "    kmeans.fit(merged_df[numerical_features])\n",
    "    inertia_values.append(kmeans.inertia_)\n",
    "\n",
    "# Plot inertia values\n",
    "plt.plot(range(1, 11), inertia_values)\n",
    "plt.xlabel(\"Number of Clusters (k)\")\n",
    "plt.ylabel(\"Inertia\")\n",
    "plt.title(\"Inertia Plot\")\n",
    "plt.show()"
   ]
  },
  {
   "cell_type": "markdown",
   "id": "6e5a76ae-6484-41be-b733-4f3f51c0a0bc",
   "metadata": {},
   "source": [
    "## Step 7: Visualize the clusters"
   ]
  },
  {
   "cell_type": "code",
   "execution_count": 140,
   "id": "0e9f397c-9335-4946-9e1f-ffc64822ae9e",
   "metadata": {},
   "outputs": [
    {
     "data": {
      "image/png": "[encoded data removed]",
      "text/plain": [
       "<Figure size 640x480 with 1 Axes>"
      ]
     },
     "metadata": {},
     "output_type": "display_data"
    }
   ],
   "source": [
    "# Visualize the cluster using a scatter plot\n",
    "plt.scatter(merged_df[\"members\"],merged_df['rating'], c=merged_df[\"cluster\"],cmap=\"rainbow\")\n",
    "plt.xlabel(\"Members (Normalized)\")\n",
    "plt.ylabel(\"Rating Normalized\")\n",
    "plt.title(\"Cluster Visualization\")\n",
    "plt.show()"
   ]
  },
  {
   "cell_type": "markdown",
   "id": "0ea00dc3-e7cf-46e7-9f12-e713be27ea0d",
   "metadata": {},
   "source": [
    "## Cluster centroids"
   ]
  },
  {
   "cell_type": "code",
   "execution_count": 141,
   "id": "3816883c-9ea6-42f8-aa36-06cd69bc4282",
   "metadata": {},
   "outputs": [
    {
     "data": {
      "image/png": "[encoded data removed]",
      "text/plain": [
       "<Figure size 640x480 with 1 Axes>"
      ]
     },
     "metadata": {},
     "output_type": "display_data"
    }
   ],
   "source": [
    "# Get cluster cetroids\n",
    "centroids = kmeans.cluster_centers_\n",
    "# Plot data points and cluster centroids\n",
    "plt.scatter(merged_df[\"members\"],merged_df[\"rating\"],c=merged_df[\"cluster\"], cmap=\"rainbow\")\n",
    "plt.scatter(centroids[:, 0], centroids[:, 1], marker=\"x\",s=100,c=\"black\")\n",
    "plt.xlabel(\"Members (Normalized)\")\n",
    "plt.ylabel(\"Rating (Normalized)\")\n",
    "plt.title(\"Cluster Visualization with Centroids\")\n",
    "plt.show()"
   ]
  },
  {
   "cell_type": "markdown",
   "id": "94d45b17-2e9f-4d4e-a4ad-0126a490bcac",
   "metadata": {},
   "source": [
    "## Cluster Size Distribution"
   ]
  },
  {
   "cell_type": "code",
   "execution_count": 142,
   "id": "d0efba28-e5fb-44e2-ac04-7cdc226b23cb",
   "metadata": {},
   "outputs": [
    {
     "data": {
      "image/png": "[encoded data removed]",
      "text/plain": [
       "<Figure size 640x480 with 1 Axes>"
      ]
     },
     "metadata": {},
     "output_type": "display_data"
    }
   ],
   "source": [
    "# Count data points in each cluster\n",
    "cluster_counts = merged_df[\"cluster\"].value_counts().sort_index()\n",
    "\n",
    "# plot cluster size distribution\n",
    "plt.bar(cluster_counts.index, cluster_counts.value_counts())\n",
    "plt.xlabel(\"Cluster\")\n",
    "plt.ylabel(\"Number of Data Points\")\n",
    "plt.title(\"Cluster Size Distribution\")\n",
    "plt.show()"
   ]
  },
  {
   "cell_type": "markdown",
   "id": "c93ea21b-3536-4d7c-ae05-36e89cc13fda",
   "metadata": {},
   "source": [
    "## Silhouette Plot"
   ]
  },
  {
   "cell_type": "code",
   "execution_count": null,
   "id": "c025eb7e-36e4-445d-86d2-3a37c680a27f",
   "metadata": {},
   "outputs": [],
   "source": [
    "# Calculate silhouette samples\n",
    "silhouette_values = silhouette_samples(merged_df[numerical_features],merged_df[\"cluster\"])\n",
    "\n",
    "# Plot silhouette plot\n",
    "plt.figure(figsize=(10,6))\n",
    "y_lower = 10\n",
    "for i in range(optimal_k):\n",
    "    ith_cluster_silhouette_values = silhouette_values[merged_df[\"cluster\"]==i]\n",
    "    ith_cluster_silhouette_values.sort()\n",
    "    size_cluster_i = ith_cluster_silhouette_values.shape[0]\n",
    "    y_upper = y_lower + size_cluster_i\n",
    "    color = cm.nipy_spectral(float(i)/ optimal_k)\n",
    "    plt.fill_between(np.arange(y_lower,y_upper), 0, ith_cluster_silhouette_values, facecolor=color,alpha=0.7)\n",
    "    plt.text(-0.05,y_lower + 0.05*size_cluster_i,str(i))\n",
    "    y_lower = y_upper + 10\n",
    "\n",
    "plt.xlabel(\"Silhouette Coefficient\")\n",
    "plt.ylabel(\"Cluster\")\n",
    "plt.title(\"Silhouette Plot\")\n",
    "plt.show()"
   ]
  },
  {
   "cell_type": "markdown",
   "id": "1ac167ec-62c0-4cc0-8f79-182ad7235e3e",
   "metadata": {},
   "source": [
    "## Project Report"
   ]
  },
  {
   "cell_type": "markdown",
   "id": "7325601b-5e35-4111-9fb2-6c5f36c5e6a2",
   "metadata": {},
   "source": [
    "### Clustering Analysis on Anime Dataset: \n",
    "<p style=\"text-align: justify;\">\n",
    "A Report In this project, I embarked on the task of performing clustering analysis on the \"anime.csv\" dataset to gain insights into the distribution of anime titles based on their \"members\" and \"rating\" attributes. The project provided valuable hands-on experience in data preprocessing, algorithm implementation, and result interpretation.\n",
    "Learning and Implementation Process:\n",
    "The project began with loading and cleaning the dataset. Missing values were dropped to ensure data integrity. Next, I selected the relevant numerical features for clustering, namely \"members\" and \"rating.\" The StandardScaler was applied to normalize the features, making them comparable in the clustering process.\n",
    "To determine the optimal number of clusters (kkk), the \"Elbow Method\" was employed. The within-cluster sum of squares (WCSS) was calculated for various kkk values and plotted against them. Visual analysis of the graph helped identify the \"elbow point,\" representing a balance between data compression and overfitting. Choosing the optimal kkk was challenging due to the subjective nature of this decision.\n",
    "KMeans clustering was executed using the chosen kkk, and the silhouette score was employed to evaluate cluster quality. The silhouette score provided a quantitative measure of how well data points were grouped within clusters. The visualization of clusters in scatter plots and silhouette plots enhanced my understanding of the results.\n",
    "Difficulties Faced:\n",
    "The primary challenge encountered was selecting the optimal number of clusters. While the elbow method offered guidance, subjectivity played a role in interpreting the graph and making a decision. Balancing model complexity and meaningful clusters required careful consideration.\n",
    "Another difficulty emerged in interpreting the silhouette score. Although higher scores indicated better-defined clusters, assigning a threshold for a \"good\" score was intricate. Contextualizing the score within the domain knowledge was crucial, which proved a complex task in the absence of explicit ground truth labels.\n",
    "Additionally, managing the computational time for silhouette score calculation was challenging. The computation time increased with dataset size, necessitating optimization techniques like using smaller subsets or parallel computation.\n",
    "Key Takeaways:\n",
    "Through this project, I learned that clustering is both an art and a science. It involves a blend of statistical techniques and subjective judgment to generate meaningful insights. The project reinforced the importance of considering domain knowledge and context in interpreting clustering results, especially when quantitative metrics alone might not tell the full story.\n",
    "Difficulties in selecting kkk and interpreting scores highlighted the need for a holistic approach. It's essential to explore multiple angles, visualize results, and collaborate with domain experts to validate findings.\n",
    "In conclusion, this project expanded my knowledge of unsupervised learning techniques, honed my ability to select appropriate metrics for evaluation, and provided insights into the intricacies of clustering analysis. It highlighted the balance between quantitative measures and qualitative judgment in uncovering patterns within data. Clustering remains a powerful tool for discovering hidden structures in datasets, and I am excited to continue exploring its applications in various domains.</p>\n"
   ]
  }
 ],
 "metadata": {
  "kernelspec": {
   "display_name": "Python 3 (ipykernel)",
   "language": "python",
   "name": "python3"
  },
  "language_info": {
   "codemirror_mode": {
    "name": "ipython",
    "version": 3
   },
   "file_extension": ".py",
   "mimetype": "text/x-python",
   "name": "python",
   "nbconvert_exporter": "python",
   "pygments_lexer": "ipython3",
   "version": "3.11.4"
  },
  "widgets": {
   "application/vnd.jupyter.widget-state+json": {
    "state": {},
    "version_major": 2,
    "version_minor": 0
   }
  }
 },
 "nbformat": 4,
 "nbformat_minor": 5
}
